{
  "nbformat": 4,
  "nbformat_minor": 0,
  "metadata": {
    "colab": {
      "name": "Quiz1.ipynb",
      "provenance": [],
      "include_colab_link": true
    },
    "kernelspec": {
      "name": "python3",
      "display_name": "Python 3"
    },
    "language_info": {
      "name": "python"
    }
  },
  "cells": [
    {
      "cell_type": "markdown",
      "metadata": {
        "id": "view-in-github",
        "colab_type": "text"
      },
      "source": [
        "<a href=\"https://colab.research.google.com/github/rattapornsupama/DPDM65/blob/main/Quiz1.ipynb\" target=\"_parent\"><img src=\"https://colab.research.google.com/assets/colab-badge.svg\" alt=\"Open In Colab\"/></a>"
      ]
    },
    {
      "cell_type": "markdown",
      "source": [
        "# Quiz1\n",
        "เขียน function แสดงความต่างของเวลาโดย input อยู่ในรูปแบบ 'XX:YY:ZZ - AA:BB:CC'\n",
        "\n",
        "และวนลูปแสดงผลของ input ต่อไปนี้\n",
        "\n",
        "* '09:11:50 - 12:30:15'\n",
        "* '13:41:07 - 20:00:18'\n",
        "* '00:00:00 - 23:59:59'\n",
        "* '18:04:11 - 00:00:00'\n",
        "* '21:30:00 - 03:05:15'\n",
        "\n",
        "ตัวอย่าง \n",
        "input ```'00:00:00-01:00:00'``` \n",
        "\n",
        "output ```ช่วงระยะเวลาระหว่าง 00:00:00 ถึง 01:00:00 มีเวลาทั้งหมด 3,600 วินาที```"
      ],
      "metadata": {
        "id": "AyuFpHU_VgDa"
      }
    },
    {
      "cell_type": "markdown",
      "source": [
        "09:11:50 - 12:30:15,13:41:07 - 20:00:18,00:00:00 - 23:59:59,18:04:11 - 00:00:00,21:30:00 - 03:05:15"
      ],
      "metadata": {
        "id": "A1LylUxpf2EL"
      }
    },
    {
      "cell_type": "markdown",
      "source": [
        "def  time(list_x) :\n",
        "    for i in list_x:\n",
        "        for j in list_xx:\n",
        "            h=j-i\n",
        "            sec1=h*3600\n",
        "            print(sec1)"
      ],
      "metadata": {
        "id": "-fndDV4pmYKu"
      }
    },
    {
      "cell_type": "code",
      "source": [
        "\n",
        "def  time(list_x) :\n",
        "    for i in list_x:\n",
        "        for j in list_xx:\n",
        "            h=j-i\n",
        "            sec1=h*3600\n",
        "            print(sec1)\n",
        "\n",
        "\n"
      ],
      "metadata": {
        "id": "6VNsVlFql6fF"
      },
      "execution_count": 59,
      "outputs": []
    },
    {
      "cell_type": "code",
      "source": [
        "list_x=[9,13,18,18]\n",
        "list_xx=[12]\n",
        "XX=time(list_x)\n",
        "print(XX)"
      ],
      "metadata": {
        "colab": {
          "base_uri": "https://localhost:8080/"
        },
        "id": "J9qcY1b3d8nX",
        "outputId": "ca6aa0ec-3e7c-4efd-ab63-969abdd8ff4e"
      },
      "execution_count": 60,
      "outputs": [
        {
          "output_type": "stream",
          "name": "stdout",
          "text": [
            "10800\n",
            "-3600\n",
            "-21600\n",
            "-21600\n",
            "None\n"
          ]
        }
      ]
    },
    {
      "cell_type": "code",
      "source": [
        ""
      ],
      "metadata": {
        "id": "HpHx1LbxmKRh"
      },
      "execution_count": null,
      "outputs": []
    }
  ]
}