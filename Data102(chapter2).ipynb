{
  "nbformat": 4,
  "nbformat_minor": 0,
  "metadata": {
    "colab": {
      "name": "Data102(chapter2).ipynb",
      "provenance": [],
      "toc_visible": true,
      "authorship_tag": "ABX9TyOmabauUH1ACbh1KWPLjUBo",
      "include_colab_link": true
    },
    "kernelspec": {
      "name": "python3",
      "display_name": "Python 3"
    },
    "language_info": {
      "name": "python"
    }
  },
  "cells": [
    {
      "cell_type": "markdown",
      "metadata": {
        "id": "view-in-github",
        "colab_type": "text"
      },
      "source": [
        "<a href=\"https://colab.research.google.com/github/rattapornsupama/DPDM65/blob/main/Data102(chapter2).ipynb\" target=\"_parent\"><img src=\"https://colab.research.google.com/assets/colab-badge.svg\" alt=\"Open In Colab\"/></a>"
      ]
    },
    {
      "cell_type": "code",
      "execution_count": null,
      "metadata": {
        "id": "kepbu5GyeJ7J"
      },
      "outputs": [],
      "source": [
        "import pandas as pd # ทำงานกับข้อมูลลักษณะ ตาราง"
      ]
    },
    {
      "cell_type": "markdown",
      "source": [
        "เชื่อม google drive ต้องทำทุกครั้งที่เปิดไฟล์นี้ "
      ],
      "metadata": {
        "id": "izWWmFYjf1kR"
      }
    },
    {
      "cell_type": "code",
      "source": [
        "from google.colab import drive # เชื่อม google drive\n",
        "drive.mount('/content/drive')"
      ],
      "metadata": {
        "colab": {
          "base_uri": "https://localhost:8080/"
        },
        "id": "l0y_hw6vfj_w",
        "outputId": "2a8a2e57-6e25-40f8-da29-f1220e365092"
      },
      "execution_count": null,
      "outputs": [
        {
          "output_type": "stream",
          "name": "stdout",
          "text": [
            "Mounted at /content/drive\n"
          ]
        }
      ]
    },
    {
      "cell_type": "code",
      "source": [
        "import os # จัดการไฟล์และ path"
      ],
      "metadata": {
        "id": "hTWcchPyfkj9"
      },
      "execution_count": null,
      "outputs": []
    },
    {
      "cell_type": "code",
      "source": [],
      "metadata": {
        "id": "X7JUCfqMf_Wu"
      },
      "execution_count": null,
      "outputs": []
    }
  ]
}