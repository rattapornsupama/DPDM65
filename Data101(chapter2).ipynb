{
  "nbformat": 4,
  "nbformat_minor": 0,
  "metadata": {
    "colab": {
      "name": "Data101(chapter2).ipynb",
      "provenance": [],
      "toc_visible": true,
      "authorship_tag": "ABX9TyMmwBkczRki2U/Sanhtq5kY",
      "include_colab_link": true
    },
    "kernelspec": {
      "name": "python3",
      "display_name": "Python 3"
    },
    "language_info": {
      "name": "python"
    }
  },
  "cells": [
    {
      "cell_type": "markdown",
      "metadata": {
        "id": "view-in-github",
        "colab_type": "text"
      },
      "source": [
        "<a href=\"https://colab.research.google.com/github/rattapornsupama/DPDM65/blob/main/Data101(chapter2).ipynb\" target=\"_parent\"><img src=\"https://colab.research.google.com/assets/colab-badge.svg\" alt=\"Open In Colab\"/></a>"
      ]
    },
    {
      "cell_type": "markdown",
      "source": [
        "pandas คือ package ที่มีคนพัฒนาขึ้นมาเพื่อใช้จัดการข้อมูลที่มีลักษณะเป็นตารางซึ่งใน pandas เรียกว่า datafame\n"
      ],
      "metadata": {
        "id": "UAhzBDYS9Tt0"
      }
    },
    {
      "cell_type": "code",
      "execution_count": null,
      "metadata": {
        "id": "nEtna_ko8Ena"
      },
      "outputs": [],
      "source": [
        "import pandas #import pandas คือ โหลด package ที่ชื่อว่า pandas มาใช้"
      ]
    },
    {
      "cell_type": "code",
      "source": [
        "import pandas as pd #โหลด package ที่ชื่อว่า pandas มาใช้ แล้วตั้งชื่อว่า pd"
      ],
      "metadata": {
        "id": "oem5n-WU88ju"
      },
      "execution_count": null,
      "outputs": []
    },
    {
      "cell_type": "markdown",
      "source": [
        "ไฟล์ .csv (csv = comma separated values)"
      ],
      "metadata": {
        "id": "4nKxda5d-amK"
      }
    },
    {
      "cell_type": "code",
      "source": [
        "data_df = pd.read_csv('data.csv')"
      ],
      "metadata": {
        "id": "76nu7WXf-WN8"
      },
      "execution_count": null,
      "outputs": []
    },
    {
      "cell_type": "code",
      "source": [
        "data_df"
      ],
      "metadata": {
        "colab": {
          "base_uri": "https://localhost:8080/",
          "height": 112
        },
        "id": "wPo_WWv7AQQT",
        "outputId": "f9598456-986d-4eea-cdcd-9e809c49f30f"
      },
      "execution_count": null,
      "outputs": [
        {
          "output_type": "execute_result",
          "data": {
            "text/plain": [
              "   car_id        model  year   value  person_id\n",
              "0     101      bentley  1973  100000          1\n",
              "1     102  rolls royce  1965  330000          1"
            ],
            "text/html": [
              "\n",
              "  <div id=\"df-406bab30-b053-44f4-bb14-48d996b637d3\">\n",
              "    <div class=\"colab-df-container\">\n",
              "      <div>\n",
              "<style scoped>\n",
              "    .dataframe tbody tr th:only-of-type {\n",
              "        vertical-align: middle;\n",
              "    }\n",
              "\n",
              "    .dataframe tbody tr th {\n",
              "        vertical-align: top;\n",
              "    }\n",
              "\n",
              "    .dataframe thead th {\n",
              "        text-align: right;\n",
              "    }\n",
              "</style>\n",
              "<table border=\"1\" class=\"dataframe\">\n",
              "  <thead>\n",
              "    <tr style=\"text-align: right;\">\n",
              "      <th></th>\n",
              "      <th>car_id</th>\n",
              "      <th>model</th>\n",
              "      <th>year</th>\n",
              "      <th>value</th>\n",
              "      <th>person_id</th>\n",
              "    </tr>\n",
              "  </thead>\n",
              "  <tbody>\n",
              "    <tr>\n",
              "      <th>0</th>\n",
              "      <td>101</td>\n",
              "      <td>bentley</td>\n",
              "      <td>1973</td>\n",
              "      <td>100000</td>\n",
              "      <td>1</td>\n",
              "    </tr>\n",
              "    <tr>\n",
              "      <th>1</th>\n",
              "      <td>102</td>\n",
              "      <td>rolls royce</td>\n",
              "      <td>1965</td>\n",
              "      <td>330000</td>\n",
              "      <td>1</td>\n",
              "    </tr>\n",
              "  </tbody>\n",
              "</table>\n",
              "</div>\n",
              "      <button class=\"colab-df-convert\" onclick=\"convertToInteractive('df-406bab30-b053-44f4-bb14-48d996b637d3')\"\n",
              "              title=\"Convert this dataframe to an interactive table.\"\n",
              "              style=\"display:none;\">\n",
              "        \n",
              "  <svg xmlns=\"http://www.w3.org/2000/svg\" height=\"24px\"viewBox=\"0 0 24 24\"\n",
              "       width=\"24px\">\n",
              "    <path d=\"M0 0h24v24H0V0z\" fill=\"none\"/>\n",
              "    <path d=\"M18.56 5.44l.94 2.06.94-2.06 2.06-.94-2.06-.94-.94-2.06-.94 2.06-2.06.94zm-11 1L8.5 8.5l.94-2.06 2.06-.94-2.06-.94L8.5 2.5l-.94 2.06-2.06.94zm10 10l.94 2.06.94-2.06 2.06-.94-2.06-.94-.94-2.06-.94 2.06-2.06.94z\"/><path d=\"M17.41 7.96l-1.37-1.37c-.4-.4-.92-.59-1.43-.59-.52 0-1.04.2-1.43.59L10.3 9.45l-7.72 7.72c-.78.78-.78 2.05 0 2.83L4 21.41c.39.39.9.59 1.41.59.51 0 1.02-.2 1.41-.59l7.78-7.78 2.81-2.81c.8-.78.8-2.07 0-2.86zM5.41 20L4 18.59l7.72-7.72 1.47 1.35L5.41 20z\"/>\n",
              "  </svg>\n",
              "      </button>\n",
              "      \n",
              "  <style>\n",
              "    .colab-df-container {\n",
              "      display:flex;\n",
              "      flex-wrap:wrap;\n",
              "      gap: 12px;\n",
              "    }\n",
              "\n",
              "    .colab-df-convert {\n",
              "      background-color: #E8F0FE;\n",
              "      border: none;\n",
              "      border-radius: 50%;\n",
              "      cursor: pointer;\n",
              "      display: none;\n",
              "      fill: #1967D2;\n",
              "      height: 32px;\n",
              "      padding: 0 0 0 0;\n",
              "      width: 32px;\n",
              "    }\n",
              "\n",
              "    .colab-df-convert:hover {\n",
              "      background-color: #E2EBFA;\n",
              "      box-shadow: 0px 1px 2px rgba(60, 64, 67, 0.3), 0px 1px 3px 1px rgba(60, 64, 67, 0.15);\n",
              "      fill: #174EA6;\n",
              "    }\n",
              "\n",
              "    [theme=dark] .colab-df-convert {\n",
              "      background-color: #3B4455;\n",
              "      fill: #D2E3FC;\n",
              "    }\n",
              "\n",
              "    [theme=dark] .colab-df-convert:hover {\n",
              "      background-color: #434B5C;\n",
              "      box-shadow: 0px 1px 3px 1px rgba(0, 0, 0, 0.15);\n",
              "      filter: drop-shadow(0px 1px 2px rgba(0, 0, 0, 0.3));\n",
              "      fill: #FFFFFF;\n",
              "    }\n",
              "  </style>\n",
              "\n",
              "      <script>\n",
              "        const buttonEl =\n",
              "          document.querySelector('#df-406bab30-b053-44f4-bb14-48d996b637d3 button.colab-df-convert');\n",
              "        buttonEl.style.display =\n",
              "          google.colab.kernel.accessAllowed ? 'block' : 'none';\n",
              "\n",
              "        async function convertToInteractive(key) {\n",
              "          const element = document.querySelector('#df-406bab30-b053-44f4-bb14-48d996b637d3');\n",
              "          const dataTable =\n",
              "            await google.colab.kernel.invokeFunction('convertToInteractive',\n",
              "                                                     [key], {});\n",
              "          if (!dataTable) return;\n",
              "\n",
              "          const docLinkHtml = 'Like what you see? Visit the ' +\n",
              "            '<a target=\"_blank\" href=https://colab.research.google.com/notebooks/data_table.ipynb>data table notebook</a>'\n",
              "            + ' to learn more about interactive tables.';\n",
              "          element.innerHTML = '';\n",
              "          dataTable['output_type'] = 'display_data';\n",
              "          await google.colab.output.renderOutput(dataTable, element);\n",
              "          const docLink = document.createElement('div');\n",
              "          docLink.innerHTML = docLinkHtml;\n",
              "          element.appendChild(docLink);\n",
              "        }\n",
              "      </script>\n",
              "    </div>\n",
              "  </div>\n",
              "  "
            ]
          },
          "metadata": {},
          "execution_count": 308
        }
      ]
    },
    {
      "cell_type": "code",
      "source": [
        "data_df2 = pandas.read_csv('data.csv')\n",
        "data_df2"
      ],
      "metadata": {
        "id": "fgoTPyTPAlXC",
        "colab": {
          "base_uri": "https://localhost:8080/",
          "height": 112
        },
        "outputId": "4b8309cc-266d-4713-ea54-e771adf2b074"
      },
      "execution_count": null,
      "outputs": [
        {
          "output_type": "execute_result",
          "data": {
            "text/plain": [
              "   car_id        model  year   value  person_id\n",
              "0     101      bentley  1973  100000          1\n",
              "1     102  rolls royce  1965  330000          1"
            ],
            "text/html": [
              "\n",
              "  <div id=\"df-6ed38ef0-2a8a-4e35-9e01-400068d9d0d6\">\n",
              "    <div class=\"colab-df-container\">\n",
              "      <div>\n",
              "<style scoped>\n",
              "    .dataframe tbody tr th:only-of-type {\n",
              "        vertical-align: middle;\n",
              "    }\n",
              "\n",
              "    .dataframe tbody tr th {\n",
              "        vertical-align: top;\n",
              "    }\n",
              "\n",
              "    .dataframe thead th {\n",
              "        text-align: right;\n",
              "    }\n",
              "</style>\n",
              "<table border=\"1\" class=\"dataframe\">\n",
              "  <thead>\n",
              "    <tr style=\"text-align: right;\">\n",
              "      <th></th>\n",
              "      <th>car_id</th>\n",
              "      <th>model</th>\n",
              "      <th>year</th>\n",
              "      <th>value</th>\n",
              "      <th>person_id</th>\n",
              "    </tr>\n",
              "  </thead>\n",
              "  <tbody>\n",
              "    <tr>\n",
              "      <th>0</th>\n",
              "      <td>101</td>\n",
              "      <td>bentley</td>\n",
              "      <td>1973</td>\n",
              "      <td>100000</td>\n",
              "      <td>1</td>\n",
              "    </tr>\n",
              "    <tr>\n",
              "      <th>1</th>\n",
              "      <td>102</td>\n",
              "      <td>rolls royce</td>\n",
              "      <td>1965</td>\n",
              "      <td>330000</td>\n",
              "      <td>1</td>\n",
              "    </tr>\n",
              "  </tbody>\n",
              "</table>\n",
              "</div>\n",
              "      <button class=\"colab-df-convert\" onclick=\"convertToInteractive('df-6ed38ef0-2a8a-4e35-9e01-400068d9d0d6')\"\n",
              "              title=\"Convert this dataframe to an interactive table.\"\n",
              "              style=\"display:none;\">\n",
              "        \n",
              "  <svg xmlns=\"http://www.w3.org/2000/svg\" height=\"24px\"viewBox=\"0 0 24 24\"\n",
              "       width=\"24px\">\n",
              "    <path d=\"M0 0h24v24H0V0z\" fill=\"none\"/>\n",
              "    <path d=\"M18.56 5.44l.94 2.06.94-2.06 2.06-.94-2.06-.94-.94-2.06-.94 2.06-2.06.94zm-11 1L8.5 8.5l.94-2.06 2.06-.94-2.06-.94L8.5 2.5l-.94 2.06-2.06.94zm10 10l.94 2.06.94-2.06 2.06-.94-2.06-.94-.94-2.06-.94 2.06-2.06.94z\"/><path d=\"M17.41 7.96l-1.37-1.37c-.4-.4-.92-.59-1.43-.59-.52 0-1.04.2-1.43.59L10.3 9.45l-7.72 7.72c-.78.78-.78 2.05 0 2.83L4 21.41c.39.39.9.59 1.41.59.51 0 1.02-.2 1.41-.59l7.78-7.78 2.81-2.81c.8-.78.8-2.07 0-2.86zM5.41 20L4 18.59l7.72-7.72 1.47 1.35L5.41 20z\"/>\n",
              "  </svg>\n",
              "      </button>\n",
              "      \n",
              "  <style>\n",
              "    .colab-df-container {\n",
              "      display:flex;\n",
              "      flex-wrap:wrap;\n",
              "      gap: 12px;\n",
              "    }\n",
              "\n",
              "    .colab-df-convert {\n",
              "      background-color: #E8F0FE;\n",
              "      border: none;\n",
              "      border-radius: 50%;\n",
              "      cursor: pointer;\n",
              "      display: none;\n",
              "      fill: #1967D2;\n",
              "      height: 32px;\n",
              "      padding: 0 0 0 0;\n",
              "      width: 32px;\n",
              "    }\n",
              "\n",
              "    .colab-df-convert:hover {\n",
              "      background-color: #E2EBFA;\n",
              "      box-shadow: 0px 1px 2px rgba(60, 64, 67, 0.3), 0px 1px 3px 1px rgba(60, 64, 67, 0.15);\n",
              "      fill: #174EA6;\n",
              "    }\n",
              "\n",
              "    [theme=dark] .colab-df-convert {\n",
              "      background-color: #3B4455;\n",
              "      fill: #D2E3FC;\n",
              "    }\n",
              "\n",
              "    [theme=dark] .colab-df-convert:hover {\n",
              "      background-color: #434B5C;\n",
              "      box-shadow: 0px 1px 3px 1px rgba(0, 0, 0, 0.15);\n",
              "      filter: drop-shadow(0px 1px 2px rgba(0, 0, 0, 0.3));\n",
              "      fill: #FFFFFF;\n",
              "    }\n",
              "  </style>\n",
              "\n",
              "      <script>\n",
              "        const buttonEl =\n",
              "          document.querySelector('#df-6ed38ef0-2a8a-4e35-9e01-400068d9d0d6 button.colab-df-convert');\n",
              "        buttonEl.style.display =\n",
              "          google.colab.kernel.accessAllowed ? 'block' : 'none';\n",
              "\n",
              "        async function convertToInteractive(key) {\n",
              "          const element = document.querySelector('#df-6ed38ef0-2a8a-4e35-9e01-400068d9d0d6');\n",
              "          const dataTable =\n",
              "            await google.colab.kernel.invokeFunction('convertToInteractive',\n",
              "                                                     [key], {});\n",
              "          if (!dataTable) return;\n",
              "\n",
              "          const docLinkHtml = 'Like what you see? Visit the ' +\n",
              "            '<a target=\"_blank\" href=https://colab.research.google.com/notebooks/data_table.ipynb>data table notebook</a>'\n",
              "            + ' to learn more about interactive tables.';\n",
              "          element.innerHTML = '';\n",
              "          dataTable['output_type'] = 'display_data';\n",
              "          await google.colab.output.renderOutput(dataTable, element);\n",
              "          const docLink = document.createElement('div');\n",
              "          docLink.innerHTML = docLinkHtml;\n",
              "          element.appendChild(docLink);\n",
              "        }\n",
              "      </script>\n",
              "    </div>\n",
              "  </div>\n",
              "  "
            ]
          },
          "metadata": {},
          "execution_count": 309
        }
      ]
    },
    {
      "cell_type": "markdown",
      "source": [
        "#Basic Python  คาบ3\n"
      ],
      "metadata": {
        "id": "nbEEA-kYqaco"
      }
    },
    {
      "cell_type": "markdown",
      "source": [
        "#Variable\n"
      ],
      "metadata": {
        "id": "7anysyO1qkpO"
      }
    },
    {
      "cell_type": "markdown",
      "source": [
        "ข้อกำหนดในการตั้งชื่อตัวแปร\n",
        "1.   ชื่อห้ามมีเว้นวรรค\n",
        "2.   (พยายาม)ใช้ภาษาอังกฤษ\n",
        "3.   ตัวเล็กกับตัวพิมพ์ใหญ่ แตกต่างกัน(case sensitive)\n",
        "4.   ห้ามใช้ตัวเลขเป็นตัวหน้า\n"
      ],
      "metadata": {
        "id": "6HHpeATLrJrF"
      }
    },
    {
      "cell_type": "code",
      "source": [
        "variable_a = 12\n",
        "variable_b = 3.14\n",
        "variable_c = 'A'                      # ' คือ quote หรือ '' double quote\n",
        "variable_d = 'MSc Stat KKU'"
      ],
      "metadata": {
        "id": "-_wCFODSqXPS"
      },
      "execution_count": null,
      "outputs": []
    },
    {
      "cell_type": "code",
      "source": [
        "variable_e='11'"
      ],
      "metadata": {
        "id": "nbCcr9VhvsQO"
      },
      "execution_count": null,
      "outputs": []
    },
    {
      "cell_type": "markdown",
      "source": [
        "ตัวอย่างการตั้งชื่อ"
      ],
      "metadata": {
        "id": "3h28yO57ss2w"
      }
    },
    {
      "cell_type": "code",
      "source": [
        "ตัวแปรเอ=123"
      ],
      "metadata": {
        "id": "aQPnTfbJrIq8"
      },
      "execution_count": null,
      "outputs": []
    },
    {
      "cell_type": "code",
      "source": [
        "ตัวแปรเอ"
      ],
      "metadata": {
        "colab": {
          "base_uri": "https://localhost:8080/"
        },
        "id": "gcArsas3s0Af",
        "outputId": "02a7bc6a-305e-4ead-c027-f5d42a0e7a51"
      },
      "execution_count": null,
      "outputs": [
        {
          "output_type": "execute_result",
          "data": {
            "text/plain": [
              "123"
            ]
          },
          "metadata": {},
          "execution_count": 313
        }
      ]
    },
    {
      "cell_type": "code",
      "source": [
        "Cat=1\n",
        "cat=2"
      ],
      "metadata": {
        "id": "7Tmr4epjs4Qo"
      },
      "execution_count": null,
      "outputs": []
    },
    {
      "cell_type": "code",
      "source": [
        "Cat"
      ],
      "metadata": {
        "colab": {
          "base_uri": "https://localhost:8080/"
        },
        "id": "jcEstyCes7Ty",
        "outputId": "a808892d-e78f-448e-c125-2533c15d9c23"
      },
      "execution_count": null,
      "outputs": [
        {
          "output_type": "execute_result",
          "data": {
            "text/plain": [
              "1"
            ]
          },
          "metadata": {},
          "execution_count": 315
        }
      ]
    },
    {
      "cell_type": "code",
      "source": [
        "cat"
      ],
      "metadata": {
        "colab": {
          "base_uri": "https://localhost:8080/"
        },
        "id": "Bm68YJv4s8Sd",
        "outputId": "fee317d1-ee83-4a0f-93f6-890a7029cf5b"
      },
      "execution_count": null,
      "outputs": [
        {
          "output_type": "execute_result",
          "data": {
            "text/plain": [
              "2"
            ]
          },
          "metadata": {},
          "execution_count": 316
        }
      ]
    },
    {
      "cell_type": "code",
      "source": [
        "print(cat)   #คำสั่ง print แสดงค่าที่อยู่ในตัวแปรออกมา"
      ],
      "metadata": {
        "colab": {
          "base_uri": "https://localhost:8080/"
        },
        "id": "hySMNPc9s84_",
        "outputId": "575bfc4e-089a-492a-a68b-17bfbbe99880"
      },
      "execution_count": null,
      "outputs": [
        {
          "output_type": "stream",
          "name": "stdout",
          "text": [
            "2\n"
          ]
        }
      ]
    },
    {
      "cell_type": "code",
      "source": [
        "variable_x=variable_a+variable_b  #ตัวแปรสามารถ บวก ลบ คูณ หาร กันได้ , เราเอา variable_x มาเก็บผลลัพธ์ ซึ่งสามารถเรียกใช้ได้"
      ],
      "metadata": {
        "id": "a_SOPrj4tiYX"
      },
      "execution_count": null,
      "outputs": []
    },
    {
      "cell_type": "code",
      "source": [
        "variable_x"
      ],
      "metadata": {
        "colab": {
          "base_uri": "https://localhost:8080/"
        },
        "id": "vOHpx_Pmt3pj",
        "outputId": "e1470dbd-0236-4d32-d012-ef23bca103bd"
      },
      "execution_count": null,
      "outputs": [
        {
          "output_type": "execute_result",
          "data": {
            "text/plain": [
              "15.14"
            ]
          },
          "metadata": {},
          "execution_count": 319
        }
      ]
    },
    {
      "cell_type": "code",
      "source": [
        "variable_a+variable_b   #หาคำตอบได้ แต่เรียกใช้ผลไม่ได้ เพราะไม่มีตัวแปรใดมาเก้บผลลัพธ์ไว้"
      ],
      "metadata": {
        "colab": {
          "base_uri": "https://localhost:8080/"
        },
        "id": "H3s9B4npt6fO",
        "outputId": "4c81d664-e99c-45ec-c7b8-95da976fe7eb"
      },
      "execution_count": null,
      "outputs": [
        {
          "output_type": "execute_result",
          "data": {
            "text/plain": [
              "15.14"
            ]
          },
          "metadata": {},
          "execution_count": 320
        }
      ]
    },
    {
      "cell_type": "code",
      "source": [
        "variable_x=variable_a+variable_b+5\n",
        "print(variable_x)"
      ],
      "metadata": {
        "colab": {
          "base_uri": "https://localhost:8080/"
        },
        "id": "qg_6UkzeuDaN",
        "outputId": "121ab9be-8b13-4f91-d9a4-3d34f74917fe"
      },
      "execution_count": null,
      "outputs": [
        {
          "output_type": "stream",
          "name": "stdout",
          "text": [
            "20.14\n"
          ]
        }
      ]
    },
    {
      "cell_type": "code",
      "source": [
        "variable_z=variable_a\n",
        "print(variable_z)"
      ],
      "metadata": {
        "colab": {
          "base_uri": "https://localhost:8080/"
        },
        "id": "09-PKFYvunqp",
        "outputId": "07179758-bd5b-4b5a-fa0b-e82e5f825623"
      },
      "execution_count": null,
      "outputs": [
        {
          "output_type": "stream",
          "name": "stdout",
          "text": [
            "12\n"
          ]
        }
      ]
    },
    {
      "cell_type": "code",
      "source": [
        "variable_a=variable_a+3     #อับเดตค่า a แต่ค่า z ไม่ได้อับเดตด้วย เพราะกำหนดให้มาก่อนหน้านี้\n",
        "print(variable_a)\n",
        "print(variable_z)"
      ],
      "metadata": {
        "colab": {
          "base_uri": "https://localhost:8080/"
        },
        "id": "86dzHCz2vCYT",
        "outputId": "476d3985-7d9c-4795-f4ef-18078cf849c4"
      },
      "execution_count": null,
      "outputs": [
        {
          "output_type": "stream",
          "name": "stdout",
          "text": [
            "15\n",
            "12\n"
          ]
        }
      ]
    },
    {
      "cell_type": "code",
      "source": [
        "# variable_a+variable_e   ไม่สามารถเอาจำนวน มาบวกกับ ตัวเลขได้"
      ],
      "metadata": {
        "id": "G6IhI0Y-vKx7"
      },
      "execution_count": null,
      "outputs": []
    },
    {
      "cell_type": "code",
      "source": [
        "variable_c+variable_d   # ตัวอักษร รวม ตัวอักษร ได้"
      ],
      "metadata": {
        "colab": {
          "base_uri": "https://localhost:8080/",
          "height": 34
        },
        "id": "v7ODpXndv48a",
        "outputId": "2fbb514f-94b3-4c3b-a1ee-9fe38f17e627"
      },
      "execution_count": null,
      "outputs": [
        {
          "output_type": "execute_result",
          "data": {
            "text/plain": [
              "'AMSc Stat KKU'"
            ],
            "application/vnd.google.colaboratory.intrinsic+json": {
              "type": "string"
            }
          },
          "metadata": {},
          "execution_count": 325
        }
      ]
    },
    {
      "cell_type": "markdown",
      "source": [
        "###คำสั่ง Casting \n",
        "1.   int()  เปลี่ยน ตัวแปรเดิม ให้เป็นตัวแปรที่อยู่ในรูปแบบ ตัวเลข\n",
        "2.   float() เปลี่ยน ตัวแปรเดิม ให้เป็นตัวแปรที่อยู่ในรูปแบบ ....\n",
        "3.   str() เปลี่ยน ตัวแปรเดิม ให้เป็นตัวแปรที่อยู่ในรูปแบบ ตัวอักษร\n",
        "\n",
        "\n",
        "\n"
      ],
      "metadata": {
        "id": "i5ILmUAFwg8Y"
      }
    },
    {
      "cell_type": "code",
      "source": [
        "variable_a+int(variable_e) "
      ],
      "metadata": {
        "colab": {
          "base_uri": "https://localhost:8080/"
        },
        "id": "0ksLFN4ywScd",
        "outputId": "0a4d085f-02fe-4be5-ece2-c3f906f18313"
      },
      "execution_count": null,
      "outputs": [
        {
          "output_type": "execute_result",
          "data": {
            "text/plain": [
              "26"
            ]
          },
          "metadata": {},
          "execution_count": 326
        }
      ]
    },
    {
      "cell_type": "code",
      "source": [
        "variable_e+str(variable_a)"
      ],
      "metadata": {
        "colab": {
          "base_uri": "https://localhost:8080/",
          "height": 34
        },
        "id": "lQzRw3Ntwy5R",
        "outputId": "aec63e84-86bb-4f59-dc30-34c0403720bf"
      },
      "execution_count": null,
      "outputs": [
        {
          "output_type": "execute_result",
          "data": {
            "text/plain": [
              "'1115'"
            ],
            "application/vnd.google.colaboratory.intrinsic+json": {
              "type": "string"
            }
          },
          "metadata": {},
          "execution_count": 327
        }
      ]
    },
    {
      "cell_type": "markdown",
      "source": [
        "ตรวจสอบชนิดของตัวแปรด้วย คำสั่ง type"
      ],
      "metadata": {
        "id": "XmHBJvGFx7Tf"
      }
    },
    {
      "cell_type": "code",
      "source": [
        "type(variable_e)"
      ],
      "metadata": {
        "colab": {
          "base_uri": "https://localhost:8080/"
        },
        "id": "SbtvzaxPxDpt",
        "outputId": "2a5eaf31-4803-452b-d4db-038457964a5a"
      },
      "execution_count": null,
      "outputs": [
        {
          "output_type": "execute_result",
          "data": {
            "text/plain": [
              "str"
            ]
          },
          "metadata": {},
          "execution_count": 328
        }
      ]
    },
    {
      "cell_type": "code",
      "source": [
        "type(variable_a)"
      ],
      "metadata": {
        "colab": {
          "base_uri": "https://localhost:8080/"
        },
        "id": "JGa_UELGx44W",
        "outputId": "7005632f-e1c5-4e04-d8f6-d5af78d58a27"
      },
      "execution_count": null,
      "outputs": [
        {
          "output_type": "execute_result",
          "data": {
            "text/plain": [
              "int"
            ]
          },
          "metadata": {},
          "execution_count": 329
        }
      ]
    },
    {
      "cell_type": "markdown",
      "source": [
        "#Data structure"
      ],
      "metadata": {
        "id": "-ovD0NfhyMzO"
      }
    },
    {
      "cell_type": "markdown",
      "source": [
        "###list"
      ],
      "metadata": {
        "id": "MzUU0M86yXBS"
      }
    },
    {
      "cell_type": "code",
      "source": [
        "list_a=[1,2,3,0.9,'aaz',variable_b]    # [ ] squre brackage คือ ใช้ำในการสร้าง list"
      ],
      "metadata": {
        "id": "XMF8TYrAyMDn"
      },
      "execution_count": null,
      "outputs": []
    },
    {
      "cell_type": "code",
      "source": [
        "list_a"
      ],
      "metadata": {
        "colab": {
          "base_uri": "https://localhost:8080/"
        },
        "id": "jiKor-tKykle",
        "outputId": "0f58fee2-de08-4e7a-d356-95f637af009d"
      },
      "execution_count": null,
      "outputs": [
        {
          "output_type": "execute_result",
          "data": {
            "text/plain": [
              "[1, 2, 3, 0.9, 'aaz', 3.14]"
            ]
          },
          "metadata": {},
          "execution_count": 331
        }
      ]
    },
    {
      "cell_type": "markdown",
      "source": [
        "indexing\n",
        "1.   ใช้ลำดับในการชี้\n",
        "2.   ลำดับเริ่มต้นจาก 0\n",
        "3.   สามารถชี้จากข้างหลังได้โดยใช้ negative index\n"
      ],
      "metadata": {
        "id": "G8S4JGlS3m-c"
      }
    },
    {
      "cell_type": "markdown",
      "source": [
        "positive index ชี้จากข้างหน้า (การนับสมาชิก ไล่จากลำดับที่ 0 ,1,2,...)\n",
        "\n"
      ],
      "metadata": {
        "id": "ggC9ouy7y_5P"
      }
    },
    {
      "cell_type": "code",
      "source": [
        "list_a[5]\n"
      ],
      "metadata": {
        "colab": {
          "base_uri": "https://localhost:8080/"
        },
        "id": "2tXkQ8Kzy9On",
        "outputId": "b39c81cf-9c96-4a36-b14f-8c1c94592b7e"
      },
      "execution_count": null,
      "outputs": [
        {
          "output_type": "execute_result",
          "data": {
            "text/plain": [
              "3.14"
            ]
          },
          "metadata": {},
          "execution_count": 332
        }
      ]
    },
    {
      "cell_type": "code",
      "source": [
        "list_a[0]"
      ],
      "metadata": {
        "colab": {
          "base_uri": "https://localhost:8080/"
        },
        "id": "ZbhCHVzZzEEn",
        "outputId": "fd7a867f-ed14-40a2-d085-aa0335cb7632"
      },
      "execution_count": null,
      "outputs": [
        {
          "output_type": "execute_result",
          "data": {
            "text/plain": [
              "1"
            ]
          },
          "metadata": {},
          "execution_count": 333
        }
      ]
    },
    {
      "cell_type": "markdown",
      "source": [
        "negative index ชี้จากข้างหลัง (การนับสมาชิก ไล่จากข้างหลังลำดับที่ -1,-2,-3,...)\n",
        "\n",
        "\n"
      ],
      "metadata": {
        "id": "FbqebYHi0N1A"
      }
    },
    {
      "cell_type": "code",
      "source": [
        "list_a[-2]"
      ],
      "metadata": {
        "colab": {
          "base_uri": "https://localhost:8080/",
          "height": 34
        },
        "id": "xrBqO_Bo0D8A",
        "outputId": "91039233-02c3-4a0a-a93a-62c9b555009a"
      },
      "execution_count": null,
      "outputs": [
        {
          "output_type": "execute_result",
          "data": {
            "text/plain": [
              "'aaz'"
            ],
            "application/vnd.google.colaboratory.intrinsic+json": {
              "type": "string"
            }
          },
          "metadata": {},
          "execution_count": 334
        }
      ]
    },
    {
      "cell_type": "code",
      "source": [
        "list_b=['pizza',list_a]\n",
        "list_b"
      ],
      "metadata": {
        "colab": {
          "base_uri": "https://localhost:8080/"
        },
        "id": "tpE54_3f0XKc",
        "outputId": "0ab5e8ce-57b5-4df7-fd4a-0ebd68bfd0a7"
      },
      "execution_count": null,
      "outputs": [
        {
          "output_type": "execute_result",
          "data": {
            "text/plain": [
              "['pizza', [1, 2, 3, 0.9, 'aaz', 3.14]]"
            ]
          },
          "metadata": {},
          "execution_count": 335
        }
      ]
    },
    {
      "cell_type": "code",
      "source": [
        "list_b[1][3]"
      ],
      "metadata": {
        "colab": {
          "base_uri": "https://localhost:8080/"
        },
        "id": "Ls4GEyp60huC",
        "outputId": "15dd58ef-a99c-48c8-fb07-5b2c778f6bb6"
      },
      "execution_count": null,
      "outputs": [
        {
          "output_type": "execute_result",
          "data": {
            "text/plain": [
              "0.9"
            ]
          },
          "metadata": {},
          "execution_count": 336
        }
      ]
    },
    {
      "cell_type": "markdown",
      "source": [
        "string คือ list ของตัวอักษร"
      ],
      "metadata": {
        "id": "QJdjwXJr1Y7z"
      }
    },
    {
      "cell_type": "code",
      "source": [
        "x='shabu'\n",
        "x[3]"
      ],
      "metadata": {
        "colab": {
          "base_uri": "https://localhost:8080/",
          "height": 34
        },
        "id": "PLvmPT100uqC",
        "outputId": "2578a3aa-2bd9-4055-96a2-ad6e3629f1ba"
      },
      "execution_count": null,
      "outputs": [
        {
          "output_type": "execute_result",
          "data": {
            "text/plain": [
              "'b'"
            ],
            "application/vnd.google.colaboratory.intrinsic+json": {
              "type": "string"
            }
          },
          "metadata": {},
          "execution_count": 337
        }
      ]
    },
    {
      "cell_type": "code",
      "source": [
        "print(list_a)\n",
        "print(list_b)"
      ],
      "metadata": {
        "colab": {
          "base_uri": "https://localhost:8080/"
        },
        "id": "3nWzJyRP1gcc",
        "outputId": "9ac23822-0492-43f5-ab98-44479746e280"
      },
      "execution_count": null,
      "outputs": [
        {
          "output_type": "stream",
          "name": "stdout",
          "text": [
            "[1, 2, 3, 0.9, 'aaz', 3.14]\n",
            "['pizza', [1, 2, 3, 0.9, 'aaz', 3.14]]\n"
          ]
        }
      ]
    },
    {
      "cell_type": "code",
      "source": [
        "list_a+list_b"
      ],
      "metadata": {
        "colab": {
          "base_uri": "https://localhost:8080/"
        },
        "id": "OVlGyhN713aE",
        "outputId": "76229911-a3e2-4f85-e91b-90b4115526b2"
      },
      "execution_count": null,
      "outputs": [
        {
          "output_type": "execute_result",
          "data": {
            "text/plain": [
              "[1, 2, 3, 0.9, 'aaz', 3.14, 'pizza', [1, 2, 3, 0.9, 'aaz', 3.14]]"
            ]
          },
          "metadata": {},
          "execution_count": 339
        }
      ]
    },
    {
      "cell_type": "markdown",
      "source": [
        "การสร้าง list\n",
        "1.   สร้าง list ว่าง\n",
        "2.   เพิ่มสมาชิกลงไปใน list\n",
        "\n"
      ],
      "metadata": {
        "id": "oWQVd8SL2M_K"
      }
    },
    {
      "cell_type": "markdown",
      "source": [
        "1.สร้าง list ว่าง"
      ],
      "metadata": {
        "id": "Y0ZkFuhV2ayg"
      }
    },
    {
      "cell_type": "code",
      "source": [
        "list_aa=[]"
      ],
      "metadata": {
        "id": "24-E9TEv19OC"
      },
      "execution_count": null,
      "outputs": []
    },
    {
      "cell_type": "code",
      "source": [
        "list_aa"
      ],
      "metadata": {
        "colab": {
          "base_uri": "https://localhost:8080/"
        },
        "id": "HG_8Rriq2gNT",
        "outputId": "84c8213d-b4bb-4b62-cabd-240dd55f2b06"
      },
      "execution_count": null,
      "outputs": [
        {
          "output_type": "execute_result",
          "data": {
            "text/plain": [
              "[]"
            ]
          },
          "metadata": {},
          "execution_count": 341
        }
      ]
    },
    {
      "cell_type": "code",
      "source": [
        "list_bb=list()\n",
        "print(list_bb)"
      ],
      "metadata": {
        "colab": {
          "base_uri": "https://localhost:8080/"
        },
        "id": "kGU3Ec7g2hJV",
        "outputId": "92be28d9-5176-4b35-e28e-f7f3be15639f"
      },
      "execution_count": null,
      "outputs": [
        {
          "output_type": "stream",
          "name": "stdout",
          "text": [
            "[]\n"
          ]
        }
      ]
    },
    {
      "cell_type": "markdown",
      "source": [
        "2.เพิ่มสมาชิกลงไปใน list\n"
      ],
      "metadata": {
        "id": "WGLkIIUE2stf"
      }
    },
    {
      "cell_type": "code",
      "source": [
        "list_aa.append('chicken')\n",
        "list_aa.append('water')\n",
        "list_aa.append('vegetable')\n",
        "list_aa.append('plate')"
      ],
      "metadata": {
        "id": "PribIemu2lIr"
      },
      "execution_count": null,
      "outputs": []
    },
    {
      "cell_type": "code",
      "source": [
        "list_aa"
      ],
      "metadata": {
        "colab": {
          "base_uri": "https://localhost:8080/"
        },
        "id": "gvk2xcki6XI3",
        "outputId": "8e5fddd0-29f6-413e-a950-05bd22617a98"
      },
      "execution_count": null,
      "outputs": [
        {
          "output_type": "execute_result",
          "data": {
            "text/plain": [
              "['chicken', 'water', 'vegetable', 'plate']"
            ]
          },
          "metadata": {},
          "execution_count": 344
        }
      ]
    },
    {
      "cell_type": "code",
      "source": [
        "list_aa[-2]"
      ],
      "metadata": {
        "colab": {
          "base_uri": "https://localhost:8080/",
          "height": 34
        },
        "id": "3_311ig36usL",
        "outputId": "d2f3a599-ba64-419c-a24d-79a1562510ba"
      },
      "execution_count": null,
      "outputs": [
        {
          "output_type": "execute_result",
          "data": {
            "text/plain": [
              "'vegetable'"
            ],
            "application/vnd.google.colaboratory.intrinsic+json": {
              "type": "string"
            }
          },
          "metadata": {},
          "execution_count": 345
        }
      ]
    },
    {
      "cell_type": "markdown",
      "source": [
        "###list slicing\n",
        "ใช้ : (colon) เพื่อทำ slicing\n",
        "\n",
        "เราจะตัด list โดยเอาตั้งแต่ [ตัวหน้า:ตัวก่อนตัวหลัง]\n",
        "\n",
        "ถ้าเป็นสัญลักษณ์คณิตศาสตร์ [ตัวหน้า:ตัวหลัง] -> [ตัวหน้า,ตัวหลัง)"
      ],
      "metadata": {
        "id": "y6b_tVqY4eGM"
      }
    },
    {
      "cell_type": "code",
      "source": [
        "list_aa"
      ],
      "metadata": {
        "colab": {
          "base_uri": "https://localhost:8080/"
        },
        "id": "KLA23wrY4zcx",
        "outputId": "6a1d76f0-2ed8-48c1-9673-78f96f409ee1"
      },
      "execution_count": null,
      "outputs": [
        {
          "output_type": "execute_result",
          "data": {
            "text/plain": [
              "['chicken', 'water', 'vegetable', 'plate']"
            ]
          },
          "metadata": {},
          "execution_count": 346
        }
      ]
    },
    {
      "cell_type": "code",
      "source": [
        "list_aa[1:3]"
      ],
      "metadata": {
        "colab": {
          "base_uri": "https://localhost:8080/"
        },
        "id": "Y39BD-mS62-y",
        "outputId": "335ab585-ef88-4059-a2ab-02219880a9dd"
      },
      "execution_count": null,
      "outputs": [
        {
          "output_type": "execute_result",
          "data": {
            "text/plain": [
              "['water', 'vegetable']"
            ]
          },
          "metadata": {},
          "execution_count": 347
        }
      ]
    },
    {
      "cell_type": "markdown",
      "source": [
        "### Quiz 1\n",
        "\n",
        "ตัดส่วนของ list เหล่านี้มาจาก list_aa\n",
        "1. 'icken'\n",
        "2. 'get'\n",
        "3. 'tab'"
      ],
      "metadata": {
        "id": "g7l6eih875I-"
      }
    },
    {
      "cell_type": "code",
      "source": [
        "list_aa[0][2:7]"
      ],
      "metadata": {
        "colab": {
          "base_uri": "https://localhost:8080/",
          "height": 34
        },
        "id": "ZTUt1Ka6650e",
        "outputId": "f556260d-dc72-457a-d1a4-ae9e6b118296"
      },
      "execution_count": null,
      "outputs": [
        {
          "output_type": "execute_result",
          "data": {
            "text/plain": [
              "'icken'"
            ],
            "application/vnd.google.colaboratory.intrinsic+json": {
              "type": "string"
            }
          },
          "metadata": {},
          "execution_count": 348
        }
      ]
    },
    {
      "cell_type": "code",
      "source": [
        "list_aa[2][2:5]"
      ],
      "metadata": {
        "colab": {
          "base_uri": "https://localhost:8080/",
          "height": 34
        },
        "id": "h4X88ZWK8vmM",
        "outputId": "2c72d2f0-67b8-4e16-90f2-c5c213b54fc1"
      },
      "execution_count": null,
      "outputs": [
        {
          "output_type": "execute_result",
          "data": {
            "text/plain": [
              "'get'"
            ],
            "application/vnd.google.colaboratory.intrinsic+json": {
              "type": "string"
            }
          },
          "metadata": {},
          "execution_count": 349
        }
      ]
    },
    {
      "cell_type": "code",
      "source": [
        "list_aa[2][4:7]"
      ],
      "metadata": {
        "colab": {
          "base_uri": "https://localhost:8080/",
          "height": 34
        },
        "id": "Y053TF2T81SY",
        "outputId": "6bd46784-2a2d-406a-98e4-85796e330fad"
      },
      "execution_count": null,
      "outputs": [
        {
          "output_type": "execute_result",
          "data": {
            "text/plain": [
              "'tab'"
            ],
            "application/vnd.google.colaboratory.intrinsic+json": {
              "type": "string"
            }
          },
          "metadata": {},
          "execution_count": 350
        }
      ]
    },
    {
      "cell_type": "code",
      "source": [
        "list_aa[1][1:]   \n",
        "# ไม่ใส่เลขหลัง : หมายถึง นับถึงตัวสุดท้าย \n",
        "# ไม่ใส่เลขหน้า : หมายถึง นับตั้งแต่ตัวแรก   "
      ],
      "metadata": {
        "colab": {
          "base_uri": "https://localhost:8080/",
          "height": 34
        },
        "id": "Mjgo-fpJ8-TY",
        "outputId": "8eee598d-9435-40f4-ec1d-0cfb60d87c0d"
      },
      "execution_count": null,
      "outputs": [
        {
          "output_type": "execute_result",
          "data": {
            "text/plain": [
              "'ater'"
            ],
            "application/vnd.google.colaboratory.intrinsic+json": {
              "type": "string"
            }
          },
          "metadata": {},
          "execution_count": 351
        }
      ]
    },
    {
      "cell_type": "code",
      "source": [
        "list_aa[1][:3]"
      ],
      "metadata": {
        "colab": {
          "base_uri": "https://localhost:8080/",
          "height": 34
        },
        "id": "dd5j2Q5g96rt",
        "outputId": "2cae6f3a-eab6-48f9-839e-6fee9c465a22"
      },
      "execution_count": null,
      "outputs": [
        {
          "output_type": "execute_result",
          "data": {
            "text/plain": [
              "'wat'"
            ],
            "application/vnd.google.colaboratory.intrinsic+json": {
              "type": "string"
            }
          },
          "metadata": {},
          "execution_count": 352
        }
      ]
    },
    {
      "cell_type": "markdown",
      "source": [
        "### Advance list slicing\n",
        ":: (colon 2 ตัว)\n",
        "\n",
        "เราจะตัด list โดยเอาตั้งแต่ [ตัวหน้า:ตัวก่อนตัวหลัง:step]\n",
        "\n",
        "ถ้าเป็นสัยลักษณ์คณิตศาสตร์ [ตัวหน้า:ตัวหลัง] ->[ตัวหน้า,ตัวหลัง)\n",
        "\n",
        "หมายเหตุ \n",
        "1. ไม่ใส่ตัวหน้า คือ นับตั้งแต่ตัวแรก\n",
        "2. ไม่ใส่ตัวก่อนตัีวหลัง คือ นับถึงตัวสุดท้าย \n",
        "3. ไม่ใส่step  คือ step=1"
      ],
      "metadata": {
        "id": "wEOU0Iro-ON5"
      }
    },
    {
      "cell_type": "code",
      "source": [
        "list_aa[2]"
      ],
      "metadata": {
        "colab": {
          "base_uri": "https://localhost:8080/",
          "height": 34
        },
        "id": "DKtWxBGB-IvZ",
        "outputId": "424c0799-0f39-43bd-838d-a17eead119b6"
      },
      "execution_count": null,
      "outputs": [
        {
          "output_type": "execute_result",
          "data": {
            "text/plain": [
              "'vegetable'"
            ],
            "application/vnd.google.colaboratory.intrinsic+json": {
              "type": "string"
            }
          },
          "metadata": {},
          "execution_count": 353
        }
      ]
    },
    {
      "cell_type": "code",
      "source": [
        "list_aa[::]"
      ],
      "metadata": {
        "colab": {
          "base_uri": "https://localhost:8080/"
        },
        "id": "TcuwWFvNTa9N",
        "outputId": "ef4afa91-aa4a-4539-9fb2-9b576a50ae30"
      },
      "execution_count": null,
      "outputs": [
        {
          "output_type": "execute_result",
          "data": {
            "text/plain": [
              "['chicken', 'water', 'vegetable', 'plate']"
            ]
          },
          "metadata": {},
          "execution_count": 354
        }
      ]
    },
    {
      "cell_type": "code",
      "source": [
        "list_aa[::2]"
      ],
      "metadata": {
        "colab": {
          "base_uri": "https://localhost:8080/"
        },
        "id": "GZtRS4m7Tfi8",
        "outputId": "4a86692a-01e0-40ba-ad43-28177f5e9413"
      },
      "execution_count": null,
      "outputs": [
        {
          "output_type": "execute_result",
          "data": {
            "text/plain": [
              "['chicken', 'vegetable']"
            ]
          },
          "metadata": {},
          "execution_count": 355
        }
      ]
    },
    {
      "cell_type": "code",
      "source": [
        "list_aa[::-1]"
      ],
      "metadata": {
        "colab": {
          "base_uri": "https://localhost:8080/"
        },
        "id": "EgnQR7sjTjB9",
        "outputId": "1815b956-e39f-47f4-ac52-48c671e78231"
      },
      "execution_count": null,
      "outputs": [
        {
          "output_type": "execute_result",
          "data": {
            "text/plain": [
              "['plate', 'vegetable', 'water', 'chicken']"
            ]
          },
          "metadata": {},
          "execution_count": 379
        }
      ]
    },
    {
      "cell_type": "code",
      "source": [
        "list_aa[2][::2]"
      ],
      "metadata": {
        "colab": {
          "base_uri": "https://localhost:8080/",
          "height": 34
        },
        "id": "ZEdj_F5OTuno",
        "outputId": "d031610c-661c-4d2c-f2c9-a2c32fb1b6e7"
      },
      "execution_count": null,
      "outputs": [
        {
          "output_type": "execute_result",
          "data": {
            "text/plain": [
              "'vgtbe'"
            ],
            "application/vnd.google.colaboratory.intrinsic+json": {
              "type": "string"
            }
          },
          "metadata": {},
          "execution_count": 357
        }
      ]
    },
    {
      "cell_type": "code",
      "source": [
        "list_aa[2][::-1]"
      ],
      "metadata": {
        "colab": {
          "base_uri": "https://localhost:8080/",
          "height": 34
        },
        "id": "jeW15lnAT721",
        "outputId": "f5a60d5a-c2b1-487f-bdd5-2bd305643bea"
      },
      "execution_count": null,
      "outputs": [
        {
          "output_type": "execute_result",
          "data": {
            "text/plain": [
              "'elbategev'"
            ],
            "application/vnd.google.colaboratory.intrinsic+json": {
              "type": "string"
            }
          },
          "metadata": {},
          "execution_count": 358
        }
      ]
    },
    {
      "cell_type": "markdown",
      "source": [
        "format string\n",
        "\n",
        "การจัดการข้อความที่เป็นตัวอักษร เราสามารถแทรกตัวแปรเข้าไปอยู่ในข้อความที่เป็นตัวหนังสือได้\n",
        "\n",
        " ```python\n",
        "f'string{variable}'\n",
        " ```"
      ],
      "metadata": {
        "id": "9AOXNPvjT_b6"
      }
    },
    {
      "cell_type": "code",
      "source": [
        "f'I like to eat {list_aa[2]}'  # {} คือ curly backage"
      ],
      "metadata": {
        "colab": {
          "base_uri": "https://localhost:8080/",
          "height": 34
        },
        "id": "pcqv5q5FUS3_",
        "outputId": "8fd3b197-5801-4d4b-d83c-82104409bdca"
      },
      "execution_count": null,
      "outputs": [
        {
          "output_type": "execute_result",
          "data": {
            "text/plain": [
              "'I like to eat vegetable'"
            ],
            "application/vnd.google.colaboratory.intrinsic+json": {
              "type": "string"
            }
          },
          "metadata": {},
          "execution_count": 359
        }
      ]
    },
    {
      "cell_type": "code",
      "source": [
        "f'9x10={9*10}'    # สามารถเขียนสมการเข้าไปไหน format string ได้"
      ],
      "metadata": {
        "colab": {
          "base_uri": "https://localhost:8080/",
          "height": 34
        },
        "id": "zoK3R8bYV6bV",
        "outputId": "c3ac1c4a-3180-4974-fb2a-ddb2e185463c"
      },
      "execution_count": null,
      "outputs": [
        {
          "output_type": "execute_result",
          "data": {
            "text/plain": [
              "'9x10=90'"
            ],
            "application/vnd.google.colaboratory.intrinsic+json": {
              "type": "string"
            }
          },
          "metadata": {},
          "execution_count": 360
        }
      ]
    },
    {
      "cell_type": "markdown",
      "source": [
        "##Loop\n",
        "\n",
        "การให้ com ทำงานที่ซ้ำๆกัน หรือ ทำงานที่คล้ายๆกัน หลายๆรอบ\n",
        "\n",
        "``` python\n",
        "for ตัวแปรที่เราจะรับค่าจากลิสต์ in ลิสต์ที่ต้องการจะวนลูป : \n",
        "     do something\n",
        "     do another thing\n",
        "\n",
        "this is outside the loop\n",
        "```\n",
        "หมายเหตุ \n",
        "1. ถ้าหลังคำสั่ง for ข้อความนั้น ย่อหน้า(indent) แสดงว่าข้อความนั้นอยู่ในลูป for\n",
        "2. ถ้าหลังคำสั่ง for ข้อความนั้น ตรงกับลูป for แสดงว่าข้อความนั้นไม่ได้อยู่ในลูป for\n"
      ],
      "metadata": {
        "id": "WerDFxzOXWhf"
      }
    },
    {
      "cell_type": "code",
      "source": [
        "list_aa"
      ],
      "metadata": {
        "colab": {
          "base_uri": "https://localhost:8080/"
        },
        "id": "O2gh3iyJaGPu",
        "outputId": "bed77739-4a44-4f90-dd6f-e00d4bdf3bdd"
      },
      "execution_count": null,
      "outputs": [
        {
          "output_type": "execute_result",
          "data": {
            "text/plain": [
              "['chicken', 'water', 'vegetable', 'plate']"
            ]
          },
          "metadata": {},
          "execution_count": 361
        }
      ]
    },
    {
      "cell_type": "markdown",
      "source": [
        "####ทำงานคล้ายๆกัน หลายรอบ"
      ],
      "metadata": {
        "id": "iXJqaCZQah9Q"
      }
    },
    {
      "cell_type": "code",
      "source": [
        "for i in list_aa:\n",
        "    print(f'now i is {i}')\n",
        "    print(f'I like to eat {i}' )"
      ],
      "metadata": {
        "colab": {
          "base_uri": "https://localhost:8080/"
        },
        "id": "jNxbz_-qXElt",
        "outputId": "439403c8-6b47-4a1c-dda7-f555d54c8306"
      },
      "execution_count": null,
      "outputs": [
        {
          "output_type": "stream",
          "name": "stdout",
          "text": [
            "now i is chicken\n",
            "I like to eat chicken\n",
            "now i is water\n",
            "I like to eat water\n",
            "now i is vegetable\n",
            "I like to eat vegetable\n",
            "now i is plate\n",
            "I like to eat plate\n"
          ]
        }
      ]
    },
    {
      "cell_type": "markdown",
      "source": [
        "####ทำงานซ้ำๆกัน"
      ],
      "metadata": {
        "id": "ClNb7kd1aosY"
      }
    },
    {
      "cell_type": "code",
      "source": [
        "for i in list_aa:\n",
        "    print('Ha')\n",
        "#ลิสต์นี้ มีอยู่แล้ว"
      ],
      "metadata": {
        "colab": {
          "base_uri": "https://localhost:8080/"
        },
        "id": "YFEwOfx_aAJZ",
        "outputId": "ecbd7e08-08c8-496d-db91-67daab739e34"
      },
      "execution_count": null,
      "outputs": [
        {
          "output_type": "stream",
          "name": "stdout",
          "text": [
            "Ha\n",
            "Ha\n",
            "Ha\n",
            "Ha\n"
          ]
        }
      ]
    },
    {
      "cell_type": "code",
      "source": [
        "for x in [1,3,5,7,9]:\n",
        "    print(f'this x ={x}  x/2={x/2}')\n",
        "#ลิสต์นี้ สร้างขึ้นมาใหม่"
      ],
      "metadata": {
        "colab": {
          "base_uri": "https://localhost:8080/"
        },
        "id": "NZ8TzQv-azUM",
        "outputId": "e3e8ceda-1728-4d4b-b73c-0f060fcca385"
      },
      "execution_count": null,
      "outputs": [
        {
          "output_type": "stream",
          "name": "stdout",
          "text": [
            "this x =1  x/2=0.5\n",
            "this x =3  x/2=1.5\n",
            "this x =5  x/2=2.5\n",
            "this x =7  x/2=3.5\n",
            "this x =9  x/2=4.5\n"
          ]
        }
      ]
    },
    {
      "cell_type": "code",
      "source": [
        "list(range(10))      #คำสั่ง range ใช้สร้าง list ของตัวเลขโดยเริ่มจากเลข 0"
      ],
      "metadata": {
        "colab": {
          "base_uri": "https://localhost:8080/"
        },
        "id": "xE9eTXdvbP5_",
        "outputId": "d0963c5b-af92-4b24-9eb1-67d728a8d305"
      },
      "execution_count": null,
      "outputs": [
        {
          "output_type": "execute_result",
          "data": {
            "text/plain": [
              "[0, 1, 2, 3, 4, 5, 6, 7, 8, 9]"
            ]
          },
          "metadata": {},
          "execution_count": 365
        }
      ]
    },
    {
      "cell_type": "code",
      "source": [
        "for i in range(100):\n",
        "    print(f'Ha{i}',end=' ')\n",
        "# คำสั่ง end='' ใช้เพื่อ ให้คำตอบต่อกันเลย ไม่เว้นวรรค ไม่ขึ้นบรรทัดใหม่\n",
        "# คำสั่ง end=' ' ใช้เพื่อ ให้คำตอบต่อกันเลยโดย เว้นวรรค แต่ ไม่ขึ้นบรรทัดใหม่"
      ],
      "metadata": {
        "colab": {
          "base_uri": "https://localhost:8080/"
        },
        "id": "PbxId6uRbh8d",
        "outputId": "b8f7cc1e-ba4c-46ae-c541-855c877ad96a"
      },
      "execution_count": null,
      "outputs": [
        {
          "output_type": "stream",
          "name": "stdout",
          "text": [
            "Ha0 Ha1 Ha2 Ha3 Ha4 Ha5 Ha6 Ha7 Ha8 Ha9 Ha10 Ha11 Ha12 Ha13 Ha14 Ha15 Ha16 Ha17 Ha18 Ha19 Ha20 Ha21 Ha22 Ha23 Ha24 Ha25 Ha26 Ha27 Ha28 Ha29 Ha30 Ha31 Ha32 Ha33 Ha34 Ha35 Ha36 Ha37 Ha38 Ha39 Ha40 Ha41 Ha42 Ha43 Ha44 Ha45 Ha46 Ha47 Ha48 Ha49 Ha50 Ha51 Ha52 Ha53 Ha54 Ha55 Ha56 Ha57 Ha58 Ha59 Ha60 Ha61 Ha62 Ha63 Ha64 Ha65 Ha66 Ha67 Ha68 Ha69 Ha70 Ha71 Ha72 Ha73 Ha74 Ha75 Ha76 Ha77 Ha78 Ha79 Ha80 Ha81 Ha82 Ha83 Ha84 Ha85 Ha86 Ha87 Ha88 Ha89 Ha90 Ha91 Ha92 Ha93 Ha94 Ha95 Ha96 Ha97 Ha98 Ha99 "
          ]
        }
      ]
    },
    {
      "cell_type": "code",
      "source": [
        "list(range(5,10))  # range(5,10) เอาเลข 5 ถึง 9 (ตัวก่อน10)"
      ],
      "metadata": {
        "colab": {
          "base_uri": "https://localhost:8080/"
        },
        "id": "_TANynojb_mL",
        "outputId": "caf95d40-1e2c-485f-af7a-eeb3130cc784"
      },
      "execution_count": null,
      "outputs": [
        {
          "output_type": "execute_result",
          "data": {
            "text/plain": [
              "[5, 6, 7, 8, 9]"
            ]
          },
          "metadata": {},
          "execution_count": 367
        }
      ]
    },
    {
      "cell_type": "code",
      "source": [
        "list(range(5,100,7))    # range(5,100,7) เอาเลข 5 ถึง 99 (ตัวก่อน100) โดยเพิ่มขึ้นทีละ 7"
      ],
      "metadata": {
        "colab": {
          "base_uri": "https://localhost:8080/"
        },
        "id": "YbMXBkypc7LH",
        "outputId": "de33ceb8-44fe-47a4-dfcf-257990204823"
      },
      "execution_count": null,
      "outputs": [
        {
          "output_type": "execute_result",
          "data": {
            "text/plain": [
              "[5, 12, 19, 26, 33, 40, 47, 54, 61, 68, 75, 82, 89, 96]"
            ]
          },
          "metadata": {},
          "execution_count": 368
        }
      ]
    },
    {
      "cell_type": "markdown",
      "source": [
        "### Nested loop"
      ],
      "metadata": {
        "id": "7MgpgMmNdsCo"
      }
    },
    {
      "cell_type": "code",
      "source": [
        "for i in range(3):\n",
        "    print(f'i={i}')\n",
        "    for j in range(2):\n",
        "        print(f'i={i}, j={j}, i+j={i+j}')"
      ],
      "metadata": {
        "colab": {
          "base_uri": "https://localhost:8080/"
        },
        "id": "WPev9RvqddXa",
        "outputId": "fa2b5170-bc58-4207-cda4-6f08b6978b62"
      },
      "execution_count": null,
      "outputs": [
        {
          "output_type": "stream",
          "name": "stdout",
          "text": [
            "i=0\n",
            "i=0, j=0, i+j=0\n",
            "i=0, j=1, i+j=1\n",
            "i=1\n",
            "i=1, j=0, i+j=1\n",
            "i=1, j=1, i+j=2\n",
            "i=2\n",
            "i=2, j=0, i+j=2\n",
            "i=2, j=1, i+j=3\n"
          ]
        }
      ]
    },
    {
      "cell_type": "markdown",
      "source": [
        "### Quiz 2\n",
        "\n",
        "สร้าง list [[1],[1,1],[1,1,1],...,[1,1,1,1,1,1,1,1,1,1]] โดยใช้ for loop\n"
      ],
      "metadata": {
        "id": "xMBtut5LefLC"
      }
    },
    {
      "cell_type": "code",
      "source": [
        "list_ans=[]                                            #สร้าง list_b เพื่อเก็บคำตอบ\n",
        "for i in range(1,11):                            #ใช้ลูป for นี้เพื่อวน i จาก 1 ถึง 10\n",
        "    list_x = []                                      # ห้ามเอา list_a ไว้นอก for \n",
        "    print(f'1.list_x={list_x} , i={i}')\n",
        "    for j in range(i):                              #ใช้ลูป for นี้เพื่อวนอีกรอบ เพื่อเพิ่มสมาชิกเข้าไปใน list\n",
        "        list_x.append(1)                          # ลูป i=1 เพิ่ม 1 จำนวน j=1 ตัว ,, ลูป i=2 เพิ่ม 1 จำนวน j=2 ตัว เป็นแบบนี้ไปเรื่อยๆ / list_a อยู่ในลูป for j\n",
        "    print(f'2.list_x={list_x}')\n",
        "    list_ans.append(list_x)                        # list_b อยู่ในลูป for i\n",
        "    print(f'3.list_ans={list_ans}')\n",
        "\n",
        "print(list_ans)"
      ],
      "metadata": {
        "colab": {
          "base_uri": "https://localhost:8080/"
        },
        "id": "9XOKsmrGhab3",
        "outputId": "f84a47da-b6cc-479a-da7a-5e19d5b6fbf6"
      },
      "execution_count": null,
      "outputs": [
        {
          "output_type": "stream",
          "name": "stdout",
          "text": [
            "1.list_x=[] , i=1\n",
            "2.list_x=[1]\n",
            "3.list_ans=[[1]]\n",
            "1.list_x=[] , i=2\n",
            "2.list_x=[1, 1]\n",
            "3.list_ans=[[1], [1, 1]]\n",
            "1.list_x=[] , i=3\n",
            "2.list_x=[1, 1, 1]\n",
            "3.list_ans=[[1], [1, 1], [1, 1, 1]]\n",
            "1.list_x=[] , i=4\n",
            "2.list_x=[1, 1, 1, 1]\n",
            "3.list_ans=[[1], [1, 1], [1, 1, 1], [1, 1, 1, 1]]\n",
            "1.list_x=[] , i=5\n",
            "2.list_x=[1, 1, 1, 1, 1]\n",
            "3.list_ans=[[1], [1, 1], [1, 1, 1], [1, 1, 1, 1], [1, 1, 1, 1, 1]]\n",
            "1.list_x=[] , i=6\n",
            "2.list_x=[1, 1, 1, 1, 1, 1]\n",
            "3.list_ans=[[1], [1, 1], [1, 1, 1], [1, 1, 1, 1], [1, 1, 1, 1, 1], [1, 1, 1, 1, 1, 1]]\n",
            "1.list_x=[] , i=7\n",
            "2.list_x=[1, 1, 1, 1, 1, 1, 1]\n",
            "3.list_ans=[[1], [1, 1], [1, 1, 1], [1, 1, 1, 1], [1, 1, 1, 1, 1], [1, 1, 1, 1, 1, 1], [1, 1, 1, 1, 1, 1, 1]]\n",
            "1.list_x=[] , i=8\n",
            "2.list_x=[1, 1, 1, 1, 1, 1, 1, 1]\n",
            "3.list_ans=[[1], [1, 1], [1, 1, 1], [1, 1, 1, 1], [1, 1, 1, 1, 1], [1, 1, 1, 1, 1, 1], [1, 1, 1, 1, 1, 1, 1], [1, 1, 1, 1, 1, 1, 1, 1]]\n",
            "1.list_x=[] , i=9\n",
            "2.list_x=[1, 1, 1, 1, 1, 1, 1, 1, 1]\n",
            "3.list_ans=[[1], [1, 1], [1, 1, 1], [1, 1, 1, 1], [1, 1, 1, 1, 1], [1, 1, 1, 1, 1, 1], [1, 1, 1, 1, 1, 1, 1], [1, 1, 1, 1, 1, 1, 1, 1], [1, 1, 1, 1, 1, 1, 1, 1, 1]]\n",
            "1.list_x=[] , i=10\n",
            "2.list_x=[1, 1, 1, 1, 1, 1, 1, 1, 1, 1]\n",
            "3.list_ans=[[1], [1, 1], [1, 1, 1], [1, 1, 1, 1], [1, 1, 1, 1, 1], [1, 1, 1, 1, 1, 1], [1, 1, 1, 1, 1, 1, 1], [1, 1, 1, 1, 1, 1, 1, 1], [1, 1, 1, 1, 1, 1, 1, 1, 1], [1, 1, 1, 1, 1, 1, 1, 1, 1, 1]]\n",
            "[[1], [1, 1], [1, 1, 1], [1, 1, 1, 1], [1, 1, 1, 1, 1], [1, 1, 1, 1, 1, 1], [1, 1, 1, 1, 1, 1, 1], [1, 1, 1, 1, 1, 1, 1, 1], [1, 1, 1, 1, 1, 1, 1, 1, 1], [1, 1, 1, 1, 1, 1, 1, 1, 1, 1]]\n"
          ]
        }
      ]
    },
    {
      "cell_type": "markdown",
      "source": [
        "###Quiz 3\n",
        "\n",
        "สร้าง list [[1],[1,2],[1,2,3],...,[1,2,3,4,5,6,7,8,9,10]] โดยใช้ for loop"
      ],
      "metadata": {
        "id": "kKT0bc0QxdVO"
      }
    },
    {
      "cell_type": "code",
      "source": [
        "list_ans1=[]                                            #สร้าง list_b เพื่อเก็บคำตอบ\n",
        "for i in range(1,11):                            #ใช้ลูป for นี้เพื่อวน i จาก 1 ถึง 10\n",
        "    list_y = []                                      # ห้ามเอา list_a ไว้นอก for \n",
        "    print(f'1.list_y={list_y} , i={i}')\n",
        "    for j in range(1,i+1):                       #ใช้ลูป for นี้เพื่อวนอีกรอบ เพื่อเพิ่มสมาชิกเข้าไปใน list\n",
        "        #print(f'j={j}',end=' ')\n",
        "        list_y.append(j)                          # ลูป i=1 เพิ่ม j=1  ลูป i=2 เพิ่ม j=1,2 เป็นแบบนี้ไปเรื่อยๆ / list_a อยู่ในลูป for j\n",
        "    print(f'2.list_y={list_y}')\n",
        "    list_ans1.append(list_y)                        # list_b อยู่ในลูป for i\n",
        "    print(f'3.list_ans1={list_ans1}')\n",
        "\n",
        "print(list_ans1)\n",
        "# i เป็นตำแหน่ง , j เป็นตัวเลข"
      ],
      "metadata": {
        "colab": {
          "base_uri": "https://localhost:8080/"
        },
        "id": "sVxLQj1EiO71",
        "outputId": "6a44355c-b68f-44f7-92b3-c04f76e6a6fd"
      },
      "execution_count": null,
      "outputs": [
        {
          "output_type": "stream",
          "name": "stdout",
          "text": [
            "1.list_y=[] , i=1\n",
            "2.list_y=[1]\n",
            "3.list_ans1=[[1]]\n",
            "1.list_y=[] , i=2\n",
            "2.list_y=[1, 2]\n",
            "3.list_ans1=[[1], [1, 2]]\n",
            "1.list_y=[] , i=3\n",
            "2.list_y=[1, 2, 3]\n",
            "3.list_ans1=[[1], [1, 2], [1, 2, 3]]\n",
            "1.list_y=[] , i=4\n",
            "2.list_y=[1, 2, 3, 4]\n",
            "3.list_ans1=[[1], [1, 2], [1, 2, 3], [1, 2, 3, 4]]\n",
            "1.list_y=[] , i=5\n",
            "2.list_y=[1, 2, 3, 4, 5]\n",
            "3.list_ans1=[[1], [1, 2], [1, 2, 3], [1, 2, 3, 4], [1, 2, 3, 4, 5]]\n",
            "1.list_y=[] , i=6\n",
            "2.list_y=[1, 2, 3, 4, 5, 6]\n",
            "3.list_ans1=[[1], [1, 2], [1, 2, 3], [1, 2, 3, 4], [1, 2, 3, 4, 5], [1, 2, 3, 4, 5, 6]]\n",
            "1.list_y=[] , i=7\n",
            "2.list_y=[1, 2, 3, 4, 5, 6, 7]\n",
            "3.list_ans1=[[1], [1, 2], [1, 2, 3], [1, 2, 3, 4], [1, 2, 3, 4, 5], [1, 2, 3, 4, 5, 6], [1, 2, 3, 4, 5, 6, 7]]\n",
            "1.list_y=[] , i=8\n",
            "2.list_y=[1, 2, 3, 4, 5, 6, 7, 8]\n",
            "3.list_ans1=[[1], [1, 2], [1, 2, 3], [1, 2, 3, 4], [1, 2, 3, 4, 5], [1, 2, 3, 4, 5, 6], [1, 2, 3, 4, 5, 6, 7], [1, 2, 3, 4, 5, 6, 7, 8]]\n",
            "1.list_y=[] , i=9\n",
            "2.list_y=[1, 2, 3, 4, 5, 6, 7, 8, 9]\n",
            "3.list_ans1=[[1], [1, 2], [1, 2, 3], [1, 2, 3, 4], [1, 2, 3, 4, 5], [1, 2, 3, 4, 5, 6], [1, 2, 3, 4, 5, 6, 7], [1, 2, 3, 4, 5, 6, 7, 8], [1, 2, 3, 4, 5, 6, 7, 8, 9]]\n",
            "1.list_y=[] , i=10\n",
            "2.list_y=[1, 2, 3, 4, 5, 6, 7, 8, 9, 10]\n",
            "3.list_ans1=[[1], [1, 2], [1, 2, 3], [1, 2, 3, 4], [1, 2, 3, 4, 5], [1, 2, 3, 4, 5, 6], [1, 2, 3, 4, 5, 6, 7], [1, 2, 3, 4, 5, 6, 7, 8], [1, 2, 3, 4, 5, 6, 7, 8, 9], [1, 2, 3, 4, 5, 6, 7, 8, 9, 10]]\n",
            "[[1], [1, 2], [1, 2, 3], [1, 2, 3, 4], [1, 2, 3, 4, 5], [1, 2, 3, 4, 5, 6], [1, 2, 3, 4, 5, 6, 7], [1, 2, 3, 4, 5, 6, 7, 8], [1, 2, 3, 4, 5, 6, 7, 8, 9], [1, 2, 3, 4, 5, 6, 7, 8, 9, 10]]\n"
          ]
        }
      ]
    },
    {
      "cell_type": "markdown",
      "source": [
        "## Conditional Statement (if statement)\n",
        "\n",
        "```python\n",
        "if เงื่อนไขที่เราจะตรวจสอบ (โดยอาศัยสัญลักษณ์เหล่านี้ ==, !=, <, >, <=, >=, in, is_null()) :\n",
        "    ถ้าเงื่อนไขเป็นจริง ทำ\n",
        "    ถ้าเงื่อนไขเป็นจริง ทำ\n",
        "```\n",
        "1. == เท่ากับ \n",
        "2. != ไม่เท่ากับ\n",
        "3. < น้อยกว่า , > มากกว่า\n",
        "5. <= น้อยกว่าเท่ากับ , >= มากว่าเท่ากับ \n",
        "7. in อยู่ใน list นี้รึป่าว\n",
        "8. is_null() เป็นค่าว่างที่ไม่มีค่ารึป่าว"
      ],
      "metadata": {
        "id": "Wj6HOcW2OFX3"
      }
    },
    {
      "cell_type": "code",
      "source": [
        "if 1<5:\n",
        "    print('yes')"
      ],
      "metadata": {
        "colab": {
          "base_uri": "https://localhost:8080/"
        },
        "id": "mN_argfp4HX5",
        "outputId": "9743ef54-c46e-4fa2-84eb-6e691f162c08"
      },
      "execution_count": null,
      "outputs": [
        {
          "output_type": "stream",
          "name": "stdout",
          "text": [
            "yes\n"
          ]
        }
      ]
    },
    {
      "cell_type": "markdown",
      "source": [
        "```python\n",
        "if เงื่อนไขที่เราจะตรวจสอบ (โดยอาศัยสัญลักษณ์ ==, !=, <, >, <=, >=, in, is_null()) :\n",
        "    ถ้าเงื่อนไขเป็นจริง ทำงานที่ 1\n",
        "    ถ้าเงื่อนไขเป็นจริง ทำงานที่ 2\n",
        "elif เงื่อนไขที่เราจะตรวจสอบต่อไปนี้ ถ้าเงื่อนไขข้างบนไม่เป็นจริง :\n",
        "    ถ้าเงื่อนไขเป็นจริง ทำงานที่ a1\n",
        "    ถ้าเงื่อนไขเป็นจริง ทำงานที่ a2\n",
        "elif เงื่อนไขที่เราจะตรวจสอบต่อไปนี้ ถ้าเงื่อนไขข้างบนไม่เป็นจริง :\n",
        "    ถ้าเงื่อนไขเป็นจริง ทำงานที่ b1\n",
        "    ถ้าเงื่อนไขเป็นจริง ทำงานที่ b2\n",
        "else: #ตรวจสอบเงื่อนไขข้างบนแล้วไม่เป็นจริง\n",
        "    ทำงานที่ X\n",
        "```"
      ],
      "metadata": {
        "id": "gTPEmopLQdeQ"
      }
    },
    {
      "cell_type": "code",
      "source": [
        "x=-12\n",
        "if x<5:\n",
        "    print('yes')\n",
        "else:\n",
        "    print('no')"
      ],
      "metadata": {
        "colab": {
          "base_uri": "https://localhost:8080/"
        },
        "id": "V-Zl2wTgPP3_",
        "outputId": "c5c58c87-2af2-4aca-87be-81613163f6df"
      },
      "execution_count": null,
      "outputs": [
        {
          "output_type": "stream",
          "name": "stdout",
          "text": [
            "yes\n"
          ]
        }
      ]
    },
    {
      "cell_type": "markdown",
      "source": [
        "###example\n",
        "\n",
        "list_ex=[1,5,9,-19,-2,0]  #หาค่าน้อยที่สุดใน list_ex โดยไม่ใช้ function min (ใช้ for กับ if)"
      ],
      "metadata": {
        "id": "2tc6yE7URjpw"
      }
    },
    {
      "cell_type": "code",
      "source": [
        "list_ex=[1,5,9,-19,-2,0]\n",
        "min = 1000000          #กำหนดค่าเยอะๆไว้ก่อน\n",
        "for i in list_ex:\n",
        "    if i<min:                #ถ้า i น้อยกว่า min\n",
        "        min = i              #จะเปลี่ยน min เป็น i\n",
        "\n",
        "print(min)"
      ],
      "metadata": {
        "colab": {
          "base_uri": "https://localhost:8080/"
        },
        "id": "lcoCzjEURiXs",
        "outputId": "53a18afc-f91d-4f88-8a42-1898021d5e44"
      },
      "execution_count": null,
      "outputs": [
        {
          "output_type": "stream",
          "name": "stdout",
          "text": [
            "-19\n"
          ]
        }
      ]
    },
    {
      "cell_type": "code",
      "source": [
        "#ขั้นตอนละเอียด\n",
        "\n",
        "list_ex=[1,5,9,-19,-2,0]\n",
        "min = 1000000\n",
        "\n",
        "for i in list_ex:\n",
        "    print(f'now i ={i},min ={min}')\n",
        "    print('start condition')\n",
        "    if i<min:\n",
        "        print(f'i < min , update min -> {i}')\n",
        "        min = i\n",
        "    else:\n",
        "        print('i >= min, not update')\n",
        "    print('end condition, go to next i')\n",
        "    \n",
        "print(min)"
      ],
      "metadata": {
        "colab": {
          "base_uri": "https://localhost:8080/"
        },
        "id": "oIIP38gGWH_0",
        "outputId": "92207cf2-fedd-4dd5-db7e-f2cc80ddf906"
      },
      "execution_count": null,
      "outputs": [
        {
          "output_type": "stream",
          "name": "stdout",
          "text": [
            "now i =1,min =1000000\n",
            "start condition\n",
            "i < min , update min -> 1\n",
            "end condition, go to next i\n",
            "now i =5,min =1\n",
            "start condition\n",
            "i >= min, not update\n",
            "end condition, go to next i\n",
            "now i =9,min =1\n",
            "start condition\n",
            "i >= min, not update\n",
            "end condition, go to next i\n",
            "now i =-19,min =1\n",
            "start condition\n",
            "i < min , update min -> -19\n",
            "end condition, go to next i\n",
            "now i =-2,min =-19\n",
            "start condition\n",
            "i >= min, not update\n",
            "end condition, go to next i\n",
            "now i =0,min =-19\n",
            "start condition\n",
            "i >= min, not update\n",
            "end condition, go to next i\n",
            "-19\n"
          ]
        }
      ]
    },
    {
      "cell_type": "markdown",
      "source": [
        "###Quiz 4\n",
        "\n",
        "list_ex=[1,5,9,-19,-2,0]  #หาค่ามากที่สุดใน list_ex โดยไม่ใช้ function max (ใช้ for กับ if)"
      ],
      "metadata": {
        "id": "ia2lOtCSX5Ws"
      }
    },
    {
      "cell_type": "code",
      "source": [
        "list_ex=[1,5,9,-19,-2,0]\n",
        "max = -1000000           #ตั้งค่าน้อยๆไว้ก่อน\n",
        "for i in list_ex:\n",
        "    if i>max:                 #ถ้า i มากกว่า max\n",
        "        max = i               #จะเปลี่ยน max เป็น i\n",
        "\n",
        "print(max)"
      ],
      "metadata": {
        "colab": {
          "base_uri": "https://localhost:8080/"
        },
        "id": "vYTKfbVZZeJA",
        "outputId": "3d0519a6-4379-41b7-b2f1-f63bafa3c586"
      },
      "execution_count": null,
      "outputs": [
        {
          "output_type": "stream",
          "name": "stdout",
          "text": [
            "9\n"
          ]
        }
      ]
    },
    {
      "cell_type": "code",
      "source": [
        "#ขั้นตอนละเอียด\n",
        "\n",
        "list_ex=[1,5,9,-19,-2,0]\n",
        "max = -1000000\n",
        "\n",
        "for i in list_ex:\n",
        "    print(f'now i ={i},max ={max}')\n",
        "    print('start condition')\n",
        "    if i>max:\n",
        "        print(f'i > max , update max -> {i}')\n",
        "        max = i\n",
        "    else:\n",
        "        print('i <= max, not update')\n",
        "    print('end condition, go to next i')\n",
        "    \n",
        "print(max)"
      ],
      "metadata": {
        "colab": {
          "base_uri": "https://localhost:8080/"
        },
        "id": "TKvak7MLXWxI",
        "outputId": "36d3190b-8f5f-4aef-9ef6-d357da80d3db"
      },
      "execution_count": null,
      "outputs": [
        {
          "output_type": "stream",
          "name": "stdout",
          "text": [
            "now i =1,max =-1000000\n",
            "start condition\n",
            "i > max , update max -> 1\n",
            "end condition, go to next i\n",
            "now i =5,max =1\n",
            "start condition\n",
            "i > max , update max -> 5\n",
            "end condition, go to next i\n",
            "now i =9,max =5\n",
            "start condition\n",
            "i > max , update max -> 9\n",
            "end condition, go to next i\n",
            "now i =-19,max =9\n",
            "start condition\n",
            "i <= max, not update\n",
            "end condition, go to next i\n",
            "now i =-2,max =9\n",
            "start condition\n",
            "i <= max, not update\n",
            "end condition, go to next i\n",
            "now i =0,max =9\n",
            "start condition\n",
            "i <= max, not update\n",
            "end condition, go to next i\n",
            "9\n"
          ]
        }
      ]
    },
    {
      "cell_type": "markdown",
      "source": [
        "## Function\n",
        "\n",
        "\n",
        "```python\n",
        "def ชื่อฟังก์ชั่น(input1,input2,....):\n",
        "    งานxxx\n",
        "    งานyyy\n",
        "    return output\n",
        "```\n",
        "\n",
        "\n",
        "ส่วนประกอบสำคัญ\n",
        "*   input\n",
        "*   process (ไม่มีไม่ได้)\n",
        "*   output"
      ],
      "metadata": {
        "id": "cqW1oMfi9P0v"
      }
    },
    {
      "cell_type": "markdown",
      "source": [
        "####Example1 (มีครบทุกอย่าง)\n",
        "\n",
        "ข้อดี สามารถเอาตัวแปรมารับคำตอบ แล้วเอาตัวแปรไปใช้ต่อได้"
      ],
      "metadata": {
        "id": "cN5BfRx99erY"
      }
    },
    {
      "cell_type": "code",
      "source": [
        "def find_min(list_A):        #ตั้งชื่อเป็น list_อะไรก็ได้\n",
        "    min = 1000000           #ตั้งค่าน้อยๆไว้ก่อน\n",
        "    for i in list_A:\n",
        "        if i<min:                 #ถ้า i มากกว่า max\n",
        "            min = i               #จะเปลี่ยน max เป็น i\n",
        "    return min                  #output"
      ],
      "metadata": {
        "id": "wNhHual3ETLE"
      },
      "execution_count": null,
      "outputs": []
    },
    {
      "cell_type": "code",
      "source": [
        "list_ex=[1,5,9,-19,-2,0]         #กำหนดตัวแปร\n",
        "print(find_min(list_ex))          #หาคำตอบ โดยใส่ print(ชื่อฟังก์ชัน)"
      ],
      "metadata": {
        "id": "E-0htVNvKnQC",
        "outputId": "046d1cb6-20fc-43ed-bd0d-759a90b36124",
        "colab": {
          "base_uri": "https://localhost:8080/"
        }
      },
      "execution_count": null,
      "outputs": [
        {
          "output_type": "stream",
          "name": "stdout",
          "text": [
            "-19\n"
          ]
        }
      ]
    },
    {
      "cell_type": "code",
      "source": [
        "list_ex=[1,5,9,-19,-2,0]         #กำหนดตัวแปร\n",
        "XXX=find_min(list_ex)          #เอาตัวแปรมารับคำตอบ\n",
        "print(XXX)                           #หาคำตอบ โดยใส่ print(ตัวแปร)"
      ],
      "metadata": {
        "id": "MnHzLOaxElyV",
        "outputId": "c79e3660-4fb8-4482-ded7-76008df3a982",
        "colab": {
          "base_uri": "https://localhost:8080/"
        }
      },
      "execution_count": null,
      "outputs": [
        {
          "output_type": "stream",
          "name": "stdout",
          "text": [
            "-19\n"
          ]
        }
      ]
    },
    {
      "cell_type": "markdown",
      "source": [
        "####Example 2 (ไม่มี output)\n",
        "\n",
        "ข้อเสีย ไม่สามารถเอาตัวแปรมารับคำตอบ แล้วเอาตัวแปรไปใช้ต่อได้"
      ],
      "metadata": {
        "id": "cbwa7R8SFnN7"
      }
    },
    {
      "cell_type": "code",
      "source": [
        "def find_min2(list_ex):\n",
        "    min = 100000000\n",
        "    for i in list_ex:\n",
        "        if i < min:\n",
        "            min = i\n",
        "    print(min)                   #ไม่มี output ให้ print min ในฟังก์ชันไปเลย"
      ],
      "metadata": {
        "id": "qgDucVE8HkAs"
      },
      "execution_count": null,
      "outputs": []
    },
    {
      "cell_type": "code",
      "source": [
        "list_ex=[1,5,9,-19,-2,0]         #กำหนดตัวแปร\n",
        "find_min2(list_ex)                 #หาคำตอบ โดยใส่ ชื่อฟังก์ชัน"
      ],
      "metadata": {
        "id": "rFifSYlxHqaK",
        "outputId": "77764f89-acd2-4a71-b7d9-40f0ec342f40",
        "colab": {
          "base_uri": "https://localhost:8080/"
        }
      },
      "execution_count": null,
      "outputs": [
        {
          "output_type": "stream",
          "name": "stdout",
          "text": [
            "-19\n"
          ]
        }
      ]
    },
    {
      "cell_type": "code",
      "source": [
        "YYY = find_min2(list_ex)      #เอาตัวแปรมารับคำตอบ             "
      ],
      "metadata": {
        "id": "HMBj4c4AHsra",
        "outputId": "1930b62e-4af2-4ffb-8927-4fc84cc94a30",
        "colab": {
          "base_uri": "https://localhost:8080/"
        }
      },
      "execution_count": null,
      "outputs": [
        {
          "output_type": "stream",
          "name": "stdout",
          "text": [
            "-19\n"
          ]
        }
      ]
    },
    {
      "cell_type": "code",
      "source": [
        "print(YYY)                          #ตัวแปร ไม่มี return ออกมา , ไม่สามารถเอาตัวแปรนี้ไปใช้แทน find_min2(list_ex) ได้"
      ],
      "metadata": {
        "id": "7V5xfnI3HuMz",
        "outputId": "d58623eb-7300-4e96-b105-99235a047646",
        "colab": {
          "base_uri": "https://localhost:8080/"
        }
      },
      "execution_count": null,
      "outputs": [
        {
          "output_type": "stream",
          "name": "stdout",
          "text": [
            "None\n"
          ]
        }
      ]
    },
    {
      "cell_type": "markdown",
      "source": [
        "#### Example 3 (ไม่มี input)"
      ],
      "metadata": {
        "id": "ADKJk7WDH0Vb"
      }
    },
    {
      "cell_type": "code",
      "source": [
        "def Pi_val():                          # () คือ ไม่ใส่ input\n",
        "    return 3.1416"
      ],
      "metadata": {
        "id": "LkFQZ9liHzZG"
      },
      "execution_count": null,
      "outputs": []
    },
    {
      "cell_type": "code",
      "source": [
        "r = 10\n",
        "print(f'พื้นที่วงกลมที่มีเส้นผ่านศูนย์กลางเท่ากับ {r} คือ {Pi_val()*r*r}')"
      ],
      "metadata": {
        "id": "VIfZtiBBH3kx",
        "outputId": "dc08a4aa-3d3d-4e53-a29e-cadb86ab156d",
        "colab": {
          "base_uri": "https://localhost:8080/"
        }
      },
      "execution_count": null,
      "outputs": [
        {
          "output_type": "stream",
          "name": "stdout",
          "text": [
            "พื้นที่วงกลมที่มีเส้นผ่านศูนย์กลางเท่ากับ 10 คือ 314.16\n"
          ]
        }
      ]
    },
    {
      "cell_type": "markdown",
      "source": [
        "#### Example 4 (ไม่มีทั้ง input และ output)"
      ],
      "metadata": {
        "id": "nwQmz9ZcH7T7"
      }
    },
    {
      "cell_type": "code",
      "source": [
        "def draw_rectangle():\n",
        "    print('=====')\n",
        "    print('|         |')\n",
        "    print('=====')"
      ],
      "metadata": {
        "id": "UmwGsgvMH5IC"
      },
      "execution_count": null,
      "outputs": []
    },
    {
      "cell_type": "code",
      "source": [
        "draw_rectangle()"
      ],
      "metadata": {
        "id": "gWfrF6LXH9ob",
        "outputId": "12e75acc-a246-497d-eb1a-113c2d57215b",
        "colab": {
          "base_uri": "https://localhost:8080/"
        }
      },
      "execution_count": null,
      "outputs": [
        {
          "output_type": "stream",
          "name": "stdout",
          "text": [
            "=====\n",
            "|         |\n",
            "=====\n"
          ]
        }
      ]
    },
    {
      "cell_type": "code",
      "source": [
        "def draw_hello():\n",
        "    print('======')\n",
        "    print('|  Hello  |')\n",
        "    print('======')"
      ],
      "metadata": {
        "id": "0m8NjzgqH-16"
      },
      "execution_count": null,
      "outputs": []
    },
    {
      "cell_type": "code",
      "source": [
        "draw_hello()"
      ],
      "metadata": {
        "id": "Xf5kM79qIApv",
        "outputId": "7ee484a4-3ea5-4e35-db43-d9529c3f85ec",
        "colab": {
          "base_uri": "https://localhost:8080/"
        }
      },
      "execution_count": null,
      "outputs": [
        {
          "output_type": "stream",
          "name": "stdout",
          "text": [
            "======\n",
            "|  Hello  |\n",
            "======\n"
          ]
        }
      ]
    },
    {
      "cell_type": "code",
      "source": [
        "def draw_rectangle():               #ไม่มี process รันไม่ได้"
      ],
      "metadata": {
        "id": "YATAgIRIICEW",
        "outputId": "4198059a-2434-4957-b799-bda0403da46f",
        "colab": {
          "base_uri": "https://localhost:8080/",
          "height": 131
        }
      },
      "execution_count": null,
      "outputs": [
        {
          "output_type": "error",
          "ename": "SyntaxError",
          "evalue": "ignored",
          "traceback": [
            "\u001b[0;36m  File \u001b[0;32m\"<ipython-input-66-ea8385bc0e8d>\"\u001b[0;36m, line \u001b[0;32m1\u001b[0m\n\u001b[0;31m    def draw_rectangle():               #ไม่มี process รันไม่ได้\u001b[0m\n\u001b[0m                                                                ^\u001b[0m\n\u001b[0;31mSyntaxError\u001b[0m\u001b[0;31m:\u001b[0m unexpected EOF while parsing\n"
          ]
        }
      ]
    },
    {
      "cell_type": "markdown",
      "source": [
        "ลักษณะของ input(paremeter,argument)\n",
        "* จำเป็นต้องใส่ (non-default argument)\n",
        "* ไม่จำเป็นต้องใส่ (default argument)\n",
        "\n",
        "/////input ที่ไม่จำเป็นต้องใส่ คือ input ที่มีค่า default\n",
        "\n",
        "////หลังจากเขียน def เราเรียก '' ค่าที่กำหนดให้ เท่ากับ input '' ว่า ค่า default\n",
        "\n",
        "////ฟังก์ชันที่ input มีค่า default ถ้าไม่ใส่ input มันจะเรียก ค่า default มาใช้"
      ],
      "metadata": {
        "id": "swhHEUbpIF6C"
      }
    },
    {
      "cell_type": "code",
      "source": [
        "def draw_rectangle(dbbound=True):           #กำหนดให้ค่า input เป็น True ซึ่ง True คือ ค่า default \n",
        "    if dbbound:\n",
        "        print('========')\n",
        "        print('||              ||')\n",
        "        print('========')\n",
        "    else:\n",
        "        print('________')\n",
        "        print('|            |')\n",
        "        print('------------')"
      ],
      "metadata": {
        "id": "Uw9Jwxv6IDY-"
      },
      "execution_count": null,
      "outputs": []
    },
    {
      "cell_type": "code",
      "source": [
        "draw_rectangle()              #ไม่ใส่ input มันจะเอาค่า default มาใส่ให้"
      ],
      "metadata": {
        "id": "yxhz3HQ5IIE0",
        "outputId": "7c4f5a06-f806-4c2d-c8ff-87ad4d5b878a",
        "colab": {
          "base_uri": "https://localhost:8080/"
        }
      },
      "execution_count": null,
      "outputs": [
        {
          "output_type": "stream",
          "name": "stdout",
          "text": [
            "========\n",
            "||              ||\n",
            "========\n"
          ]
        }
      ]
    },
    {
      "cell_type": "code",
      "source": [
        "draw_rectangle(True)        #ใส่ input มันจะไม่สนใจค่า default "
      ],
      "metadata": {
        "id": "uldWj7SRIJJr",
        "outputId": "ad3fdd93-38d4-4394-c776-2c373a6f7550",
        "colab": {
          "base_uri": "https://localhost:8080/"
        }
      },
      "execution_count": null,
      "outputs": [
        {
          "output_type": "stream",
          "name": "stdout",
          "text": [
            "========\n",
            "||              ||\n",
            "========\n"
          ]
        }
      ]
    },
    {
      "cell_type": "code",
      "source": [
        "draw_rectangle(False)       #ใส่ input มันจะไม่สนใจค่า default "
      ],
      "metadata": {
        "id": "D4LGTsbCIKiX",
        "outputId": "8a13a2cc-ffa4-4361-9ad9-c726a7cfbd2a",
        "colab": {
          "base_uri": "https://localhost:8080/"
        }
      },
      "execution_count": null,
      "outputs": [
        {
          "output_type": "stream",
          "name": "stdout",
          "text": [
            "________\n",
            "|            |\n",
            "------------\n"
          ]
        }
      ]
    },
    {
      "cell_type": "code",
      "source": [
        "find_min2()       #ฟังก์ชันนี้ input ไม่มีค่า default ถ้าไม่ใส่ input ก็หาค่าไม่ได้"
      ],
      "metadata": {
        "id": "YsGVS49nIMFB",
        "outputId": "b3446ec3-c706-4641-d468-4140564a74b1",
        "colab": {
          "base_uri": "https://localhost:8080/",
          "height": 166
        }
      },
      "execution_count": null,
      "outputs": [
        {
          "output_type": "error",
          "ename": "TypeError",
          "evalue": "ignored",
          "traceback": [
            "\u001b[0;31m---------------------------------------------------------------------------\u001b[0m",
            "\u001b[0;31mTypeError\u001b[0m                                 Traceback (most recent call last)",
            "\u001b[0;32m<ipython-input-84-188655b57a2a>\u001b[0m in \u001b[0;36m<module>\u001b[0;34m()\u001b[0m\n\u001b[0;32m----> 1\u001b[0;31m \u001b[0mfind_min2\u001b[0m\u001b[0;34m(\u001b[0m\u001b[0;34m)\u001b[0m       \u001b[0;31m#ฟังก์ชันนี้ input ไม่มีค่า default ถ้าไม่ใส่ input ก็หาค่าไม่ได้\u001b[0m\u001b[0;34m\u001b[0m\u001b[0;34m\u001b[0m\u001b[0m\n\u001b[0m",
            "\u001b[0;31mTypeError\u001b[0m: find_min2() missing 1 required positional argument: 'list_ex'"
          ]
        }
      ]
    },
    {
      "cell_type": "code",
      "source": [
        "def draw_rectangle(size,dbbound=True):                    #input ที่ไม่มีค่า default อยู่ข้างหน้า ส่วน input ที่มีค่า default อยู่ข้างหลัง\n",
        "    if dbbound:\n",
        "        up = '='\n",
        "        space = ' '\n",
        "        print(f'{(size+4)*up}')\n",
        "        print(f'||{size*space}||')\n",
        "        print(f'{(size+4)*up}')\n",
        "    else:\n",
        "        up = '-'\n",
        "        space = ' '\n",
        "        print(f'{(size+4)*up}')\n",
        "        print(f'|{size*space}|')\n",
        "        print(f'{(size+4)*up}')"
      ],
      "metadata": {
        "id": "_cZCPJ_FINvT"
      },
      "execution_count": null,
      "outputs": []
    },
    {
      "cell_type": "code",
      "source": [
        "draw_rectangle(2)                                #ใส่ input ที่ไม่มีค่า default  ส่วน input ที่ไม่มีค่า default ไม่ต้องใส่ ก็รันได้"
      ],
      "metadata": {
        "id": "K9alnNV5IPY1",
        "outputId": "1d76cb73-58e2-428a-b1d7-73bf837bfaa7",
        "colab": {
          "base_uri": "https://localhost:8080/"
        }
      },
      "execution_count": null,
      "outputs": [
        {
          "output_type": "stream",
          "name": "stdout",
          "text": [
            "======\n",
            "||  ||\n",
            "======\n"
          ]
        }
      ]
    },
    {
      "cell_type": "code",
      "source": [
        "draw_rectangle(10,False)"
      ],
      "metadata": {
        "id": "n639BQhcIQ1O",
        "outputId": "f7a5d9b0-10b5-468b-b7d5-5a347b870944",
        "colab": {
          "base_uri": "https://localhost:8080/"
        }
      },
      "execution_count": null,
      "outputs": [
        {
          "output_type": "stream",
          "name": "stdout",
          "text": [
            "--------------\n",
            "|          |\n",
            "--------------\n"
          ]
        }
      ]
    },
    {
      "cell_type": "code",
      "source": [
        "def draw_rectangle2(size,dbbound=True):\n",
        "    if dbbound:\n",
        "        up = '='\n",
        "        #space = ' '\n",
        "        print(f'{(size+4)*up}')\n",
        "        print(f'||{size*\" \"}||')                        # space = \" \" , เนื่องจาก เราใช้ ' ' ไปแล้ว ตรง space เลยต้องใช้ \" \"\n",
        "        print(f'{(size+4)*up}')\n",
        "    else:\n",
        "        up = '-'\n",
        "        #space = ' '\n",
        "        print(f'{(size+4)*up}')\n",
        "        print(f'|{size*\" \"}|')                          # space = \" \"\n",
        "        print(f'{(size+4)*up}')"
      ],
      "metadata": {
        "id": "bo-WCnLhISSe"
      },
      "execution_count": null,
      "outputs": []
    },
    {
      "cell_type": "code",
      "source": [
        "draw_rectangle2(dbbound=False,size=7)       #การใส่ input แบบไม่เรียงลำดับตาม def ให้กำหนดชื่อของ input ลงไปในนั้นด้วย ว่า แต่ละตัว input ชื่ออะไร"
      ],
      "metadata": {
        "id": "hBCnu1ZlIUOo",
        "outputId": "d6266a93-350e-4088-b644-f2e56e02c8d1",
        "colab": {
          "base_uri": "https://localhost:8080/"
        }
      },
      "execution_count": null,
      "outputs": [
        {
          "output_type": "stream",
          "name": "stdout",
          "text": [
            "-----------\n",
            "|       |\n",
            "-----------\n"
          ]
        }
      ]
    },
    {
      "cell_type": "markdown",
      "source": [
        "####Quiz 5\n",
        "\n",
        "สร้าง function วาด 4 เหลี่ยม \n",
        "โดยให้สามารถกำหนดความยาวและความกว้างได้ \n",
        "แต่ ถ้า ใส่ parameter ตัวเดียว ก็ให้วาด สี่เหลี่ยมจัตุรัส ที่มีความยาวและความกว้างเท่ากับ parameter ที่ใส่\n",
        "\n",
        "////ข้อสอบให้สร้างรูป\n",
        "\n",
        "(ให้ปริ้น ความกว้าง x ความยาวของ สี่เหลี่ยม)\n",
        "\n",
        "ตัวอย่าง\n",
        "```\n",
        "rext(3,5)\n",
        "> 3 x 5\n",
        "rext(7)\n",
        "> 7 x 7\n",
        "```"
      ],
      "metadata": {
        "id": "b6NO7RWdIYYi"
      }
    },
    {
      "cell_type": "code",
      "source": [
        "def rext(long,wide=\"Paii\"):                    #input ที่ไม่มีค่า default อยู่ข้างหน้า ส่วน input ที่มีค่า default อยู่ข้างหลัง\n",
        "    if wide==\"Paii\":\n",
        "        print(f'{long} x {long}')\n",
        "    else: \n",
        "        print(f'{long} x {wide}')"
      ],
      "metadata": {
        "id": "q6dGrfK7IVvT"
      },
      "execution_count": null,
      "outputs": []
    },
    {
      "cell_type": "code",
      "source": [
        "rext(3,5)"
      ],
      "metadata": {
        "id": "8ltHxoY_WlBI",
        "outputId": "8d566417-616c-4ffc-c259-4dd98304872d",
        "colab": {
          "base_uri": "https://localhost:8080/"
        }
      },
      "execution_count": null,
      "outputs": [
        {
          "output_type": "stream",
          "name": "stdout",
          "text": [
            "3 x 5\n"
          ]
        }
      ]
    },
    {
      "cell_type": "code",
      "source": [
        "rext(7)            \n",
        "#ไม่ใส่ input ที่ชื่อ wide มันจะเอาค่า default=\"Paii\" มาใส่ให้ \n",
        "#เพราะฉะนั้น พอเข้า process มันจึงเข้าเงื่อนไขแรก"
      ],
      "metadata": {
        "id": "poEvhfovWpuP",
        "outputId": "ab8b5412-e673-420c-afd3-c456f968c66e",
        "colab": {
          "base_uri": "https://localhost:8080/"
        }
      },
      "execution_count": null,
      "outputs": [
        {
          "output_type": "stream",
          "name": "stdout",
          "text": [
            "7 x 7\n"
          ]
        }
      ]
    },
    {
      "cell_type": "code",
      "source": [],
      "metadata": {
        "id": "aZtGXEg1XLo7"
      },
      "execution_count": null,
      "outputs": []
    }
  ]
}