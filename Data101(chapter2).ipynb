{
  "nbformat": 4,
  "nbformat_minor": 0,
  "metadata": {
    "colab": {
      "name": "Data101(chapter2).ipynb",
      "provenance": [],
      "authorship_tag": "ABX9TyMayZF6AsPyRVCzseEXXY8R",
      "include_colab_link": true
    },
    "kernelspec": {
      "name": "python3",
      "display_name": "Python 3"
    },
    "language_info": {
      "name": "python"
    }
  },
  "cells": [
    {
      "cell_type": "markdown",
      "metadata": {
        "id": "view-in-github",
        "colab_type": "text"
      },
      "source": [
        "<a href=\"https://colab.research.google.com/github/rattapornsupama/DPDM65/blob/main/Data101(chapter2).ipynb\" target=\"_parent\"><img src=\"https://colab.research.google.com/assets/colab-badge.svg\" alt=\"Open In Colab\"/></a>"
      ]
    },
    {
      "cell_type": "markdown",
      "source": [
        "pandas คือ package ที่มีคนพัฒนาขึ้นมาเพื่อใช้จัดการข้อมูลที่มีลักษณะเป็นตารางซึ่งใน pandas เรียกว่า datafame\n"
      ],
      "metadata": {
        "id": "UAhzBDYS9Tt0"
      }
    },
    {
      "cell_type": "code",
      "execution_count": 7,
      "metadata": {
        "id": "nEtna_ko8Ena"
      },
      "outputs": [],
      "source": [
        "import pandas #import pandas คือ โหลด package ที่ชื่อว่า pandas มาใช้"
      ]
    },
    {
      "cell_type": "code",
      "source": [
        "import pandas as pd #โหลด package ที่ชื่อว่า pandas มาใช้ แล้วตั้งชื่อว่า pd"
      ],
      "metadata": {
        "id": "oem5n-WU88ju"
      },
      "execution_count": 8,
      "outputs": []
    },
    {
      "cell_type": "markdown",
      "source": [
        "ไฟล์ .csv (csv = comma separated values)"
      ],
      "metadata": {
        "id": "4nKxda5d-amK"
      }
    },
    {
      "cell_type": "code",
      "source": [
        "data_df = pd.read_csv('data.csv')"
      ],
      "metadata": {
        "id": "76nu7WXf-WN8"
      },
      "execution_count": 9,
      "outputs": []
    },
    {
      "cell_type": "code",
      "source": [
        "data_df"
      ],
      "metadata": {
        "colab": {
          "base_uri": "https://localhost:8080/",
          "height": 112
        },
        "id": "wPo_WWv7AQQT",
        "outputId": "7f890f9d-ee89-41b7-c8b0-351c3b228a52"
      },
      "execution_count": 10,
      "outputs": [
        {
          "output_type": "execute_result",
          "data": {
            "text/plain": [
              "   car_id        model  year   value  person_id\n",
              "0     101      bentley  1973  100000          1\n",
              "1     102  rolls royce  1965  330000          1"
            ],
            "text/html": [
              "\n",
              "  <div id=\"df-0052fb06-e095-4cbf-8ae8-b73de650bdd2\">\n",
              "    <div class=\"colab-df-container\">\n",
              "      <div>\n",
              "<style scoped>\n",
              "    .dataframe tbody tr th:only-of-type {\n",
              "        vertical-align: middle;\n",
              "    }\n",
              "\n",
              "    .dataframe tbody tr th {\n",
              "        vertical-align: top;\n",
              "    }\n",
              "\n",
              "    .dataframe thead th {\n",
              "        text-align: right;\n",
              "    }\n",
              "</style>\n",
              "<table border=\"1\" class=\"dataframe\">\n",
              "  <thead>\n",
              "    <tr style=\"text-align: right;\">\n",
              "      <th></th>\n",
              "      <th>car_id</th>\n",
              "      <th>model</th>\n",
              "      <th>year</th>\n",
              "      <th>value</th>\n",
              "      <th>person_id</th>\n",
              "    </tr>\n",
              "  </thead>\n",
              "  <tbody>\n",
              "    <tr>\n",
              "      <th>0</th>\n",
              "      <td>101</td>\n",
              "      <td>bentley</td>\n",
              "      <td>1973</td>\n",
              "      <td>100000</td>\n",
              "      <td>1</td>\n",
              "    </tr>\n",
              "    <tr>\n",
              "      <th>1</th>\n",
              "      <td>102</td>\n",
              "      <td>rolls royce</td>\n",
              "      <td>1965</td>\n",
              "      <td>330000</td>\n",
              "      <td>1</td>\n",
              "    </tr>\n",
              "  </tbody>\n",
              "</table>\n",
              "</div>\n",
              "      <button class=\"colab-df-convert\" onclick=\"convertToInteractive('df-0052fb06-e095-4cbf-8ae8-b73de650bdd2')\"\n",
              "              title=\"Convert this dataframe to an interactive table.\"\n",
              "              style=\"display:none;\">\n",
              "        \n",
              "  <svg xmlns=\"http://www.w3.org/2000/svg\" height=\"24px\"viewBox=\"0 0 24 24\"\n",
              "       width=\"24px\">\n",
              "    <path d=\"M0 0h24v24H0V0z\" fill=\"none\"/>\n",
              "    <path d=\"M18.56 5.44l.94 2.06.94-2.06 2.06-.94-2.06-.94-.94-2.06-.94 2.06-2.06.94zm-11 1L8.5 8.5l.94-2.06 2.06-.94-2.06-.94L8.5 2.5l-.94 2.06-2.06.94zm10 10l.94 2.06.94-2.06 2.06-.94-2.06-.94-.94-2.06-.94 2.06-2.06.94z\"/><path d=\"M17.41 7.96l-1.37-1.37c-.4-.4-.92-.59-1.43-.59-.52 0-1.04.2-1.43.59L10.3 9.45l-7.72 7.72c-.78.78-.78 2.05 0 2.83L4 21.41c.39.39.9.59 1.41.59.51 0 1.02-.2 1.41-.59l7.78-7.78 2.81-2.81c.8-.78.8-2.07 0-2.86zM5.41 20L4 18.59l7.72-7.72 1.47 1.35L5.41 20z\"/>\n",
              "  </svg>\n",
              "      </button>\n",
              "      \n",
              "  <style>\n",
              "    .colab-df-container {\n",
              "      display:flex;\n",
              "      flex-wrap:wrap;\n",
              "      gap: 12px;\n",
              "    }\n",
              "\n",
              "    .colab-df-convert {\n",
              "      background-color: #E8F0FE;\n",
              "      border: none;\n",
              "      border-radius: 50%;\n",
              "      cursor: pointer;\n",
              "      display: none;\n",
              "      fill: #1967D2;\n",
              "      height: 32px;\n",
              "      padding: 0 0 0 0;\n",
              "      width: 32px;\n",
              "    }\n",
              "\n",
              "    .colab-df-convert:hover {\n",
              "      background-color: #E2EBFA;\n",
              "      box-shadow: 0px 1px 2px rgba(60, 64, 67, 0.3), 0px 1px 3px 1px rgba(60, 64, 67, 0.15);\n",
              "      fill: #174EA6;\n",
              "    }\n",
              "\n",
              "    [theme=dark] .colab-df-convert {\n",
              "      background-color: #3B4455;\n",
              "      fill: #D2E3FC;\n",
              "    }\n",
              "\n",
              "    [theme=dark] .colab-df-convert:hover {\n",
              "      background-color: #434B5C;\n",
              "      box-shadow: 0px 1px 3px 1px rgba(0, 0, 0, 0.15);\n",
              "      filter: drop-shadow(0px 1px 2px rgba(0, 0, 0, 0.3));\n",
              "      fill: #FFFFFF;\n",
              "    }\n",
              "  </style>\n",
              "\n",
              "      <script>\n",
              "        const buttonEl =\n",
              "          document.querySelector('#df-0052fb06-e095-4cbf-8ae8-b73de650bdd2 button.colab-df-convert');\n",
              "        buttonEl.style.display =\n",
              "          google.colab.kernel.accessAllowed ? 'block' : 'none';\n",
              "\n",
              "        async function convertToInteractive(key) {\n",
              "          const element = document.querySelector('#df-0052fb06-e095-4cbf-8ae8-b73de650bdd2');\n",
              "          const dataTable =\n",
              "            await google.colab.kernel.invokeFunction('convertToInteractive',\n",
              "                                                     [key], {});\n",
              "          if (!dataTable) return;\n",
              "\n",
              "          const docLinkHtml = 'Like what you see? Visit the ' +\n",
              "            '<a target=\"_blank\" href=https://colab.research.google.com/notebooks/data_table.ipynb>data table notebook</a>'\n",
              "            + ' to learn more about interactive tables.';\n",
              "          element.innerHTML = '';\n",
              "          dataTable['output_type'] = 'display_data';\n",
              "          await google.colab.output.renderOutput(dataTable, element);\n",
              "          const docLink = document.createElement('div');\n",
              "          docLink.innerHTML = docLinkHtml;\n",
              "          element.appendChild(docLink);\n",
              "        }\n",
              "      </script>\n",
              "    </div>\n",
              "  </div>\n",
              "  "
            ]
          },
          "metadata": {},
          "execution_count": 10
        }
      ]
    },
    {
      "cell_type": "code",
      "source": [
        "data_df2 = pandas.read_csv('data.csv')\n",
        "data_df2"
      ],
      "metadata": {
        "id": "fgoTPyTPAlXC",
        "outputId": "40421ab4-c6a8-4025-ce1c-3aea2483748d",
        "colab": {
          "base_uri": "https://localhost:8080/",
          "height": 112
        }
      },
      "execution_count": 11,
      "outputs": [
        {
          "output_type": "execute_result",
          "data": {
            "text/plain": [
              "   car_id        model  year   value  person_id\n",
              "0     101      bentley  1973  100000          1\n",
              "1     102  rolls royce  1965  330000          1"
            ],
            "text/html": [
              "\n",
              "  <div id=\"df-89199e8c-91e8-4d9a-a46e-9a36a1ae67fe\">\n",
              "    <div class=\"colab-df-container\">\n",
              "      <div>\n",
              "<style scoped>\n",
              "    .dataframe tbody tr th:only-of-type {\n",
              "        vertical-align: middle;\n",
              "    }\n",
              "\n",
              "    .dataframe tbody tr th {\n",
              "        vertical-align: top;\n",
              "    }\n",
              "\n",
              "    .dataframe thead th {\n",
              "        text-align: right;\n",
              "    }\n",
              "</style>\n",
              "<table border=\"1\" class=\"dataframe\">\n",
              "  <thead>\n",
              "    <tr style=\"text-align: right;\">\n",
              "      <th></th>\n",
              "      <th>car_id</th>\n",
              "      <th>model</th>\n",
              "      <th>year</th>\n",
              "      <th>value</th>\n",
              "      <th>person_id</th>\n",
              "    </tr>\n",
              "  </thead>\n",
              "  <tbody>\n",
              "    <tr>\n",
              "      <th>0</th>\n",
              "      <td>101</td>\n",
              "      <td>bentley</td>\n",
              "      <td>1973</td>\n",
              "      <td>100000</td>\n",
              "      <td>1</td>\n",
              "    </tr>\n",
              "    <tr>\n",
              "      <th>1</th>\n",
              "      <td>102</td>\n",
              "      <td>rolls royce</td>\n",
              "      <td>1965</td>\n",
              "      <td>330000</td>\n",
              "      <td>1</td>\n",
              "    </tr>\n",
              "  </tbody>\n",
              "</table>\n",
              "</div>\n",
              "      <button class=\"colab-df-convert\" onclick=\"convertToInteractive('df-89199e8c-91e8-4d9a-a46e-9a36a1ae67fe')\"\n",
              "              title=\"Convert this dataframe to an interactive table.\"\n",
              "              style=\"display:none;\">\n",
              "        \n",
              "  <svg xmlns=\"http://www.w3.org/2000/svg\" height=\"24px\"viewBox=\"0 0 24 24\"\n",
              "       width=\"24px\">\n",
              "    <path d=\"M0 0h24v24H0V0z\" fill=\"none\"/>\n",
              "    <path d=\"M18.56 5.44l.94 2.06.94-2.06 2.06-.94-2.06-.94-.94-2.06-.94 2.06-2.06.94zm-11 1L8.5 8.5l.94-2.06 2.06-.94-2.06-.94L8.5 2.5l-.94 2.06-2.06.94zm10 10l.94 2.06.94-2.06 2.06-.94-2.06-.94-.94-2.06-.94 2.06-2.06.94z\"/><path d=\"M17.41 7.96l-1.37-1.37c-.4-.4-.92-.59-1.43-.59-.52 0-1.04.2-1.43.59L10.3 9.45l-7.72 7.72c-.78.78-.78 2.05 0 2.83L4 21.41c.39.39.9.59 1.41.59.51 0 1.02-.2 1.41-.59l7.78-7.78 2.81-2.81c.8-.78.8-2.07 0-2.86zM5.41 20L4 18.59l7.72-7.72 1.47 1.35L5.41 20z\"/>\n",
              "  </svg>\n",
              "      </button>\n",
              "      \n",
              "  <style>\n",
              "    .colab-df-container {\n",
              "      display:flex;\n",
              "      flex-wrap:wrap;\n",
              "      gap: 12px;\n",
              "    }\n",
              "\n",
              "    .colab-df-convert {\n",
              "      background-color: #E8F0FE;\n",
              "      border: none;\n",
              "      border-radius: 50%;\n",
              "      cursor: pointer;\n",
              "      display: none;\n",
              "      fill: #1967D2;\n",
              "      height: 32px;\n",
              "      padding: 0 0 0 0;\n",
              "      width: 32px;\n",
              "    }\n",
              "\n",
              "    .colab-df-convert:hover {\n",
              "      background-color: #E2EBFA;\n",
              "      box-shadow: 0px 1px 2px rgba(60, 64, 67, 0.3), 0px 1px 3px 1px rgba(60, 64, 67, 0.15);\n",
              "      fill: #174EA6;\n",
              "    }\n",
              "\n",
              "    [theme=dark] .colab-df-convert {\n",
              "      background-color: #3B4455;\n",
              "      fill: #D2E3FC;\n",
              "    }\n",
              "\n",
              "    [theme=dark] .colab-df-convert:hover {\n",
              "      background-color: #434B5C;\n",
              "      box-shadow: 0px 1px 3px 1px rgba(0, 0, 0, 0.15);\n",
              "      filter: drop-shadow(0px 1px 2px rgba(0, 0, 0, 0.3));\n",
              "      fill: #FFFFFF;\n",
              "    }\n",
              "  </style>\n",
              "\n",
              "      <script>\n",
              "        const buttonEl =\n",
              "          document.querySelector('#df-89199e8c-91e8-4d9a-a46e-9a36a1ae67fe button.colab-df-convert');\n",
              "        buttonEl.style.display =\n",
              "          google.colab.kernel.accessAllowed ? 'block' : 'none';\n",
              "\n",
              "        async function convertToInteractive(key) {\n",
              "          const element = document.querySelector('#df-89199e8c-91e8-4d9a-a46e-9a36a1ae67fe');\n",
              "          const dataTable =\n",
              "            await google.colab.kernel.invokeFunction('convertToInteractive',\n",
              "                                                     [key], {});\n",
              "          if (!dataTable) return;\n",
              "\n",
              "          const docLinkHtml = 'Like what you see? Visit the ' +\n",
              "            '<a target=\"_blank\" href=https://colab.research.google.com/notebooks/data_table.ipynb>data table notebook</a>'\n",
              "            + ' to learn more about interactive tables.';\n",
              "          element.innerHTML = '';\n",
              "          dataTable['output_type'] = 'display_data';\n",
              "          await google.colab.output.renderOutput(dataTable, element);\n",
              "          const docLink = document.createElement('div');\n",
              "          docLink.innerHTML = docLinkHtml;\n",
              "          element.appendChild(docLink);\n",
              "        }\n",
              "      </script>\n",
              "    </div>\n",
              "  </div>\n",
              "  "
            ]
          },
          "metadata": {},
          "execution_count": 11
        }
      ]
    },
    {
      "cell_type": "markdown",
      "source": [
        "#Basic Python  คาบ3\n"
      ],
      "metadata": {
        "id": "nbEEA-kYqaco"
      }
    },
    {
      "cell_type": "markdown",
      "source": [
        "#Variable\n"
      ],
      "metadata": {
        "id": "7anysyO1qkpO"
      }
    },
    {
      "cell_type": "markdown",
      "source": [
        "ข้อกำหนดในการตั้งชื่อตัวแปร\n",
        "1.   ชื่อห้ามมีเว้นวรรค\n",
        "2.   (พยายาม)ใช้ภาษาอังกฤษ\n",
        "3.   ตัวเล็กกับตัวพิมพ์ใหญ่ แตกต่างกัน(case sensitive)\n",
        "4.   ห้ามใช้ตัวเลขเป็นตัวหน้า\n"
      ],
      "metadata": {
        "id": "6HHpeATLrJrF"
      }
    },
    {
      "cell_type": "code",
      "source": [
        "variable_a = 12\n",
        "variable_b = 3.14\n",
        "variable_c = 'A'                      # ' คือ quote หรือ '' double quote\n",
        "variable_d = 'MSc Stat KKU'"
      ],
      "metadata": {
        "id": "-_wCFODSqXPS"
      },
      "execution_count": 32,
      "outputs": []
    },
    {
      "cell_type": "code",
      "source": [
        "variable_e='11'"
      ],
      "metadata": {
        "id": "nbCcr9VhvsQO"
      },
      "execution_count": 33,
      "outputs": []
    },
    {
      "cell_type": "markdown",
      "source": [
        "ตัวอย่างการตั้งชื่อ"
      ],
      "metadata": {
        "id": "3h28yO57ss2w"
      }
    },
    {
      "cell_type": "code",
      "source": [
        "ตัวแปรเอ=123"
      ],
      "metadata": {
        "id": "aQPnTfbJrIq8"
      },
      "execution_count": 15,
      "outputs": []
    },
    {
      "cell_type": "code",
      "source": [
        "ตัวแปรเอ"
      ],
      "metadata": {
        "id": "gcArsas3s0Af",
        "outputId": "65eb63dd-951e-486e-df56-d2e722c8f68d",
        "colab": {
          "base_uri": "https://localhost:8080/"
        }
      },
      "execution_count": 16,
      "outputs": [
        {
          "output_type": "execute_result",
          "data": {
            "text/plain": [
              "123"
            ]
          },
          "metadata": {},
          "execution_count": 16
        }
      ]
    },
    {
      "cell_type": "code",
      "source": [
        "Cat=1\n",
        "cat=2"
      ],
      "metadata": {
        "id": "7Tmr4epjs4Qo"
      },
      "execution_count": 17,
      "outputs": []
    },
    {
      "cell_type": "code",
      "source": [
        "Cat"
      ],
      "metadata": {
        "id": "jcEstyCes7Ty",
        "outputId": "84f64276-c1ba-4ae8-e38b-a4e9f8be3ba7",
        "colab": {
          "base_uri": "https://localhost:8080/"
        }
      },
      "execution_count": 18,
      "outputs": [
        {
          "output_type": "execute_result",
          "data": {
            "text/plain": [
              "1"
            ]
          },
          "metadata": {},
          "execution_count": 18
        }
      ]
    },
    {
      "cell_type": "code",
      "source": [
        "cat"
      ],
      "metadata": {
        "id": "Bm68YJv4s8Sd",
        "outputId": "1d596f24-2d07-4fd8-de1c-3398877313b9",
        "colab": {
          "base_uri": "https://localhost:8080/"
        }
      },
      "execution_count": 19,
      "outputs": [
        {
          "output_type": "execute_result",
          "data": {
            "text/plain": [
              "2"
            ]
          },
          "metadata": {},
          "execution_count": 19
        }
      ]
    },
    {
      "cell_type": "code",
      "source": [
        "print(cat)   #คำสั่ง print แสดงค่าที่อยู่ในตัวแปรออกมา"
      ],
      "metadata": {
        "id": "hySMNPc9s84_",
        "outputId": "3ab5907b-0013-4b32-eb5c-3d1e66f1d3ba",
        "colab": {
          "base_uri": "https://localhost:8080/"
        }
      },
      "execution_count": 21,
      "outputs": [
        {
          "output_type": "stream",
          "name": "stdout",
          "text": [
            "2\n"
          ]
        }
      ]
    },
    {
      "cell_type": "code",
      "source": [
        "variable_x=variable_a+variable_b  #ตัวแปรสามารถ บวก ลบ คูณ หาร กันได้ , เราเอา variable_x มาเก็บผลลัพธ์ ซึ่งสามารถเรียกใช้ได้"
      ],
      "metadata": {
        "id": "a_SOPrj4tiYX"
      },
      "execution_count": 24,
      "outputs": []
    },
    {
      "cell_type": "code",
      "source": [
        "variable_x"
      ],
      "metadata": {
        "id": "vOHpx_Pmt3pj",
        "outputId": "c61b637e-b53c-4ec4-d25b-955925ad7e77",
        "colab": {
          "base_uri": "https://localhost:8080/"
        }
      },
      "execution_count": 25,
      "outputs": [
        {
          "output_type": "execute_result",
          "data": {
            "text/plain": [
              "15.14"
            ]
          },
          "metadata": {},
          "execution_count": 25
        }
      ]
    },
    {
      "cell_type": "code",
      "source": [
        "variable_a+variable_b   #หาคำตอบได้ แต่เรียกใช้ผลไม่ได้ เพราะไม่มีตัวแปรใดมาเก้บผลลัพธ์ไว้"
      ],
      "metadata": {
        "id": "H3s9B4npt6fO",
        "outputId": "955a4128-8748-4f8d-8325-bdc07a86939f",
        "colab": {
          "base_uri": "https://localhost:8080/"
        }
      },
      "execution_count": 27,
      "outputs": [
        {
          "output_type": "execute_result",
          "data": {
            "text/plain": [
              "15.14"
            ]
          },
          "metadata": {},
          "execution_count": 27
        }
      ]
    },
    {
      "cell_type": "code",
      "source": [
        "variable_x=variable_a+variable_b+5\n",
        "print(variable_x)"
      ],
      "metadata": {
        "id": "qg_6UkzeuDaN",
        "outputId": "45abe9a6-4311-499a-ab01-88a5d7fc054f",
        "colab": {
          "base_uri": "https://localhost:8080/"
        }
      },
      "execution_count": 28,
      "outputs": [
        {
          "output_type": "stream",
          "name": "stdout",
          "text": [
            "20.14\n"
          ]
        }
      ]
    },
    {
      "cell_type": "code",
      "source": [
        "variable_z=variable_a\n",
        "print(variable_z)"
      ],
      "metadata": {
        "id": "09-PKFYvunqp",
        "outputId": "09243b58-0f39-4eb7-fd00-7a855c4210b8",
        "colab": {
          "base_uri": "https://localhost:8080/"
        }
      },
      "execution_count": 29,
      "outputs": [
        {
          "output_type": "stream",
          "name": "stdout",
          "text": [
            "12\n"
          ]
        }
      ]
    },
    {
      "cell_type": "code",
      "source": [
        "variable_a=variable_a+3     #อับเดตค่า a แต่ค่า z ไม่ได้อับเดตด้วย เพราะกำหนดให้มาก่อนหน้านี้\n",
        "print(variable_a)\n",
        "print(variable_z)"
      ],
      "metadata": {
        "id": "86dzHCz2vCYT",
        "outputId": "ddf9b24d-c15e-4f99-ddab-1f00a7d2c248",
        "colab": {
          "base_uri": "https://localhost:8080/"
        }
      },
      "execution_count": 38,
      "outputs": [
        {
          "output_type": "stream",
          "name": "stdout",
          "text": [
            "15\n",
            "12\n"
          ]
        }
      ]
    },
    {
      "cell_type": "code",
      "source": [
        "# variable_a+variable_e   ไม่สามารถเอาจำนวน มาบวกกับ ตัวเลขได้"
      ],
      "metadata": {
        "id": "G6IhI0Y-vKx7"
      },
      "execution_count": 35,
      "outputs": []
    },
    {
      "cell_type": "code",
      "source": [
        "variable_c+variable_d   # ตัวอักษร รวม ตัวอักษร ได้"
      ],
      "metadata": {
        "id": "v7ODpXndv48a",
        "outputId": "9540f6c0-0232-4d02-88a1-2129ab516ee5",
        "colab": {
          "base_uri": "https://localhost:8080/",
          "height": 34
        }
      },
      "execution_count": 36,
      "outputs": [
        {
          "output_type": "execute_result",
          "data": {
            "text/plain": [
              "'AMSc Stat KKU'"
            ],
            "application/vnd.google.colaboratory.intrinsic+json": {
              "type": "string"
            }
          },
          "metadata": {},
          "execution_count": 36
        }
      ]
    },
    {
      "cell_type": "markdown",
      "source": [
        "###คำสั่ง Casting \n",
        "1.   int()  เปลี่ยน ตัวแปรเดิม ให้เป็นตัวแปรที่อยู่ในรูปแบบ ตัวเลข\n",
        "2.   float() เปลี่ยน ตัวแปรเดิม ให้เป็นตัวแปรที่อยู่ในรูปแบบ ....\n",
        "3.   str() เปลี่ยน ตัวแปรเดิม ให้เป็นตัวแปรที่อยู่ในรูปแบบ ตัวอักษร\n",
        "\n",
        "\n",
        "\n"
      ],
      "metadata": {
        "id": "i5ILmUAFwg8Y"
      }
    },
    {
      "cell_type": "code",
      "source": [
        "variable_a+int(variable_e) "
      ],
      "metadata": {
        "id": "0ksLFN4ywScd",
        "outputId": "2a14cb6e-3c85-4b4e-edfd-759ecb424667",
        "colab": {
          "base_uri": "https://localhost:8080/"
        }
      },
      "execution_count": 39,
      "outputs": [
        {
          "output_type": "execute_result",
          "data": {
            "text/plain": [
              "26"
            ]
          },
          "metadata": {},
          "execution_count": 39
        }
      ]
    },
    {
      "cell_type": "code",
      "source": [
        "variable_e+str(variable_a)"
      ],
      "metadata": {
        "id": "lQzRw3Ntwy5R",
        "outputId": "6822d7d5-0fdf-4969-83e1-3ca80eac9620",
        "colab": {
          "base_uri": "https://localhost:8080/",
          "height": 34
        }
      },
      "execution_count": 40,
      "outputs": [
        {
          "output_type": "execute_result",
          "data": {
            "text/plain": [
              "'1115'"
            ],
            "application/vnd.google.colaboratory.intrinsic+json": {
              "type": "string"
            }
          },
          "metadata": {},
          "execution_count": 40
        }
      ]
    },
    {
      "cell_type": "markdown",
      "source": [
        "ตรวจสอบชนิดของตัวแปรด้วย คำสั่ง type"
      ],
      "metadata": {
        "id": "XmHBJvGFx7Tf"
      }
    },
    {
      "cell_type": "code",
      "source": [
        "type(variable_e)"
      ],
      "metadata": {
        "id": "SbtvzaxPxDpt",
        "outputId": "04febbd6-21f5-4b2d-dcaf-85e72240bba6",
        "colab": {
          "base_uri": "https://localhost:8080/"
        }
      },
      "execution_count": 42,
      "outputs": [
        {
          "output_type": "execute_result",
          "data": {
            "text/plain": [
              "str"
            ]
          },
          "metadata": {},
          "execution_count": 42
        }
      ]
    },
    {
      "cell_type": "code",
      "source": [
        "type(variable_a)"
      ],
      "metadata": {
        "id": "JGa_UELGx44W",
        "outputId": "06149b77-1826-4c68-bcf0-fa9b665705d7",
        "colab": {
          "base_uri": "https://localhost:8080/"
        }
      },
      "execution_count": 43,
      "outputs": [
        {
          "output_type": "execute_result",
          "data": {
            "text/plain": [
              "int"
            ]
          },
          "metadata": {},
          "execution_count": 43
        }
      ]
    },
    {
      "cell_type": "markdown",
      "source": [
        "#Data structure"
      ],
      "metadata": {
        "id": "-ovD0NfhyMzO"
      }
    },
    {
      "cell_type": "markdown",
      "source": [
        "###list"
      ],
      "metadata": {
        "id": "MzUU0M86yXBS"
      }
    },
    {
      "cell_type": "code",
      "source": [
        "list_a=[1,2,3,0.9,'aaz',variable_b]    # [ ] squre brackage คือ ใช้ำในการสร้าง list"
      ],
      "metadata": {
        "id": "XMF8TYrAyMDn"
      },
      "execution_count": 46,
      "outputs": []
    },
    {
      "cell_type": "code",
      "source": [
        "list_a"
      ],
      "metadata": {
        "id": "jiKor-tKykle",
        "outputId": "e9c8c3ca-ae63-4cd6-eb41-abde2eda3084",
        "colab": {
          "base_uri": "https://localhost:8080/"
        }
      },
      "execution_count": 47,
      "outputs": [
        {
          "output_type": "execute_result",
          "data": {
            "text/plain": [
              "[1, 2, 3, 0.9, 'aaz', 3.14]"
            ]
          },
          "metadata": {},
          "execution_count": 47
        }
      ]
    },
    {
      "cell_type": "markdown",
      "source": [
        "indexing\n",
        "1.   ใช้ลำดับในการชี้\n",
        "2.   ลำดับเริ่มต้นจาก 0\n",
        "3.   สามารถชี้จากข้างหลังได้โดยใช้ negative index\n"
      ],
      "metadata": {
        "id": "G8S4JGlS3m-c"
      }
    },
    {
      "cell_type": "markdown",
      "source": [
        "positive index ชี้จากข้างหน้า (การนับสมาชิก ไล่จากลำดับที่ 0 ,1,2,...)\n",
        "\n"
      ],
      "metadata": {
        "id": "ggC9ouy7y_5P"
      }
    },
    {
      "cell_type": "code",
      "source": [
        "list_a[5]\n"
      ],
      "metadata": {
        "id": "2tXkQ8Kzy9On",
        "outputId": "30a6b7c3-281a-4a67-cfc8-5b6e7cb01733",
        "colab": {
          "base_uri": "https://localhost:8080/"
        }
      },
      "execution_count": 51,
      "outputs": [
        {
          "output_type": "execute_result",
          "data": {
            "text/plain": [
              "3.14"
            ]
          },
          "metadata": {},
          "execution_count": 51
        }
      ]
    },
    {
      "cell_type": "code",
      "source": [
        "list_a[0]"
      ],
      "metadata": {
        "id": "ZbhCHVzZzEEn",
        "outputId": "4436a79c-f6c8-4b57-f54c-5887bf5cf5e6",
        "colab": {
          "base_uri": "https://localhost:8080/"
        }
      },
      "execution_count": 49,
      "outputs": [
        {
          "output_type": "execute_result",
          "data": {
            "text/plain": [
              "1"
            ]
          },
          "metadata": {},
          "execution_count": 49
        }
      ]
    },
    {
      "cell_type": "markdown",
      "source": [
        "negative index ชี้จากข้างหลัง (การนับสมาชิก ไล่จากข้างหลังลำดับที่ -1,-2,-3,...)\n",
        "\n",
        "\n"
      ],
      "metadata": {
        "id": "FbqebYHi0N1A"
      }
    },
    {
      "cell_type": "code",
      "source": [
        "list_a[-2]"
      ],
      "metadata": {
        "id": "xrBqO_Bo0D8A",
        "outputId": "1a585bde-bc79-43ef-f76b-1f9bba23fce8",
        "colab": {
          "base_uri": "https://localhost:8080/",
          "height": 34
        }
      },
      "execution_count": 52,
      "outputs": [
        {
          "output_type": "execute_result",
          "data": {
            "text/plain": [
              "'aaz'"
            ],
            "application/vnd.google.colaboratory.intrinsic+json": {
              "type": "string"
            }
          },
          "metadata": {},
          "execution_count": 52
        }
      ]
    },
    {
      "cell_type": "code",
      "source": [
        "list_b=['pizza',list_a]\n",
        "list_b"
      ],
      "metadata": {
        "id": "tpE54_3f0XKc",
        "outputId": "e872d811-1ae2-4e51-fac5-9f04b2080dc8",
        "colab": {
          "base_uri": "https://localhost:8080/"
        }
      },
      "execution_count": 54,
      "outputs": [
        {
          "output_type": "execute_result",
          "data": {
            "text/plain": [
              "['pizza', [1, 2, 3, 0.9, 'aaz', 3.14]]"
            ]
          },
          "metadata": {},
          "execution_count": 54
        }
      ]
    },
    {
      "cell_type": "code",
      "source": [
        "list_b[1][3]"
      ],
      "metadata": {
        "id": "Ls4GEyp60huC",
        "outputId": "f4f6ccf6-b266-4807-95c0-7e54c01002d6",
        "colab": {
          "base_uri": "https://localhost:8080/"
        }
      },
      "execution_count": 56,
      "outputs": [
        {
          "output_type": "execute_result",
          "data": {
            "text/plain": [
              "0.9"
            ]
          },
          "metadata": {},
          "execution_count": 56
        }
      ]
    },
    {
      "cell_type": "markdown",
      "source": [
        "string คือ list ของตัวอักษร"
      ],
      "metadata": {
        "id": "QJdjwXJr1Y7z"
      }
    },
    {
      "cell_type": "code",
      "source": [
        "x='shabu'\n",
        "x[3]"
      ],
      "metadata": {
        "id": "PLvmPT100uqC",
        "outputId": "761a860c-941b-4228-c45d-a45b1c4768c2",
        "colab": {
          "base_uri": "https://localhost:8080/",
          "height": 34
        }
      },
      "execution_count": 58,
      "outputs": [
        {
          "output_type": "execute_result",
          "data": {
            "text/plain": [
              "'b'"
            ],
            "application/vnd.google.colaboratory.intrinsic+json": {
              "type": "string"
            }
          },
          "metadata": {},
          "execution_count": 58
        }
      ]
    },
    {
      "cell_type": "code",
      "source": [
        "print(list_a)\n",
        "print(list_b)"
      ],
      "metadata": {
        "id": "3nWzJyRP1gcc",
        "outputId": "702bd445-9459-46d7-d195-d1af778b580b",
        "colab": {
          "base_uri": "https://localhost:8080/"
        }
      },
      "execution_count": 59,
      "outputs": [
        {
          "output_type": "stream",
          "name": "stdout",
          "text": [
            "[1, 2, 3, 0.9, 'aaz', 3.14]\n",
            "['pizza', [1, 2, 3, 0.9, 'aaz', 3.14]]\n"
          ]
        }
      ]
    },
    {
      "cell_type": "code",
      "source": [
        "list_a+list_b"
      ],
      "metadata": {
        "id": "OVlGyhN713aE",
        "outputId": "a6b6feb5-c704-4b46-c41d-0ae29e447346",
        "colab": {
          "base_uri": "https://localhost:8080/"
        }
      },
      "execution_count": 60,
      "outputs": [
        {
          "output_type": "execute_result",
          "data": {
            "text/plain": [
              "[1, 2, 3, 0.9, 'aaz', 3.14, 'pizza', [1, 2, 3, 0.9, 'aaz', 3.14]]"
            ]
          },
          "metadata": {},
          "execution_count": 60
        }
      ]
    },
    {
      "cell_type": "markdown",
      "source": [
        "การสร้าง list\n",
        "1.   สร้าง list ว่าง\n",
        "2.   เพิ่มสมาชิกลงไปใน list\n",
        "\n"
      ],
      "metadata": {
        "id": "oWQVd8SL2M_K"
      }
    },
    {
      "cell_type": "markdown",
      "source": [
        "1.สร้าง list ว่าง"
      ],
      "metadata": {
        "id": "Y0ZkFuhV2ayg"
      }
    },
    {
      "cell_type": "code",
      "source": [
        "list_aa=[]"
      ],
      "metadata": {
        "id": "24-E9TEv19OC"
      },
      "execution_count": 97,
      "outputs": []
    },
    {
      "cell_type": "code",
      "source": [
        "list_aa"
      ],
      "metadata": {
        "id": "HG_8Rriq2gNT",
        "outputId": "862a2af9-40c5-4d18-f1a0-b97fde735134",
        "colab": {
          "base_uri": "https://localhost:8080/"
        }
      },
      "execution_count": 98,
      "outputs": [
        {
          "output_type": "execute_result",
          "data": {
            "text/plain": [
              "[]"
            ]
          },
          "metadata": {},
          "execution_count": 98
        }
      ]
    },
    {
      "cell_type": "code",
      "source": [
        "list_bb=list()\n",
        "print(list_bb)"
      ],
      "metadata": {
        "id": "kGU3Ec7g2hJV",
        "outputId": "9e02f014-e83e-4bb5-9d50-b4b196751d5e",
        "colab": {
          "base_uri": "https://localhost:8080/"
        }
      },
      "execution_count": 99,
      "outputs": [
        {
          "output_type": "stream",
          "name": "stdout",
          "text": [
            "[]\n"
          ]
        }
      ]
    },
    {
      "cell_type": "markdown",
      "source": [
        "2.เพิ่มสมาชิกลงไปใน list\n"
      ],
      "metadata": {
        "id": "WGLkIIUE2stf"
      }
    },
    {
      "cell_type": "code",
      "source": [
        "list_aa.append('chicken')\n",
        "list_aa.append('water')\n",
        "list_aa.append('vegetable')\n",
        "list_aa.append('plate')"
      ],
      "metadata": {
        "id": "PribIemu2lIr"
      },
      "execution_count": 100,
      "outputs": []
    },
    {
      "cell_type": "code",
      "source": [
        "list_aa"
      ],
      "metadata": {
        "id": "gvk2xcki6XI3",
        "outputId": "dc6927f2-a355-4265-b423-8b59220aaa43",
        "colab": {
          "base_uri": "https://localhost:8080/"
        }
      },
      "execution_count": 101,
      "outputs": [
        {
          "output_type": "execute_result",
          "data": {
            "text/plain": [
              "['chicken', 'water', 'vegetable', 'plate']"
            ]
          },
          "metadata": {},
          "execution_count": 101
        }
      ]
    },
    {
      "cell_type": "code",
      "source": [
        "list_aa[-2]"
      ],
      "metadata": {
        "id": "3_311ig36usL",
        "outputId": "015cff1b-609d-45c8-f84e-f39f7429f71f",
        "colab": {
          "base_uri": "https://localhost:8080/",
          "height": 34
        }
      },
      "execution_count": 102,
      "outputs": [
        {
          "output_type": "execute_result",
          "data": {
            "text/plain": [
              "'vegetable'"
            ],
            "application/vnd.google.colaboratory.intrinsic+json": {
              "type": "string"
            }
          },
          "metadata": {},
          "execution_count": 102
        }
      ]
    },
    {
      "cell_type": "markdown",
      "source": [
        "###list slicing\n",
        "ใช้ : (colon) เพื่อทำ slicing\n",
        "\n",
        "เราจะตัด list โดยเอาตั้งแต่ [ตัวหน้า:ตัวก่อนตัวหลัง]\n",
        "\n",
        "ถ้าเป็นสัญลักษณ์คณิตศาสตร์ [ตัวหน้า:ตัวหลัง] -> [ตัวหน้า,ตัวหลัง)"
      ],
      "metadata": {
        "id": "y6b_tVqY4eGM"
      }
    },
    {
      "cell_type": "code",
      "source": [
        "list_aa"
      ],
      "metadata": {
        "id": "KLA23wrY4zcx",
        "outputId": "77e5933a-db03-4ec7-9468-18345c732e6e",
        "colab": {
          "base_uri": "https://localhost:8080/"
        }
      },
      "execution_count": 103,
      "outputs": [
        {
          "output_type": "execute_result",
          "data": {
            "text/plain": [
              "['chicken', 'water', 'vegetable', 'plate']"
            ]
          },
          "metadata": {},
          "execution_count": 103
        }
      ]
    },
    {
      "cell_type": "code",
      "source": [
        "list_aa[1:3]"
      ],
      "metadata": {
        "id": "Y39BD-mS62-y",
        "outputId": "3ff31742-fccf-4934-8155-b45a6fb291dd",
        "colab": {
          "base_uri": "https://localhost:8080/"
        }
      },
      "execution_count": 104,
      "outputs": [
        {
          "output_type": "execute_result",
          "data": {
            "text/plain": [
              "['water', 'vegetable']"
            ]
          },
          "metadata": {},
          "execution_count": 104
        }
      ]
    },
    {
      "cell_type": "markdown",
      "source": [
        "Quiz 1\n",
        "\n",
        "ตัดส่วนของ list เหล่านี้มาจาก list_aa\n",
        "1. 'icken'\n",
        "2. 'get'\n",
        "3. 'tab'"
      ],
      "metadata": {
        "id": "g7l6eih875I-"
      }
    },
    {
      "cell_type": "code",
      "source": [
        "list_aa[0][2:8]"
      ],
      "metadata": {
        "id": "ZTUt1Ka6650e",
        "outputId": "b210241f-608f-4e39-80f4-b88ea97bd205",
        "colab": {
          "base_uri": "https://localhost:8080/",
          "height": 34
        }
      },
      "execution_count": 105,
      "outputs": [
        {
          "output_type": "execute_result",
          "data": {
            "text/plain": [
              "'icken'"
            ],
            "application/vnd.google.colaboratory.intrinsic+json": {
              "type": "string"
            }
          },
          "metadata": {},
          "execution_count": 105
        }
      ]
    },
    {
      "cell_type": "code",
      "source": [
        "list_aa[2][2:5]"
      ],
      "metadata": {
        "id": "h4X88ZWK8vmM",
        "outputId": "0128be68-9121-4088-8c32-4fab9de9bc7b",
        "colab": {
          "base_uri": "https://localhost:8080/",
          "height": 34
        }
      },
      "execution_count": 106,
      "outputs": [
        {
          "output_type": "execute_result",
          "data": {
            "text/plain": [
              "'get'"
            ],
            "application/vnd.google.colaboratory.intrinsic+json": {
              "type": "string"
            }
          },
          "metadata": {},
          "execution_count": 106
        }
      ]
    },
    {
      "cell_type": "code",
      "source": [
        "list_aa[2][4:7]"
      ],
      "metadata": {
        "id": "Y053TF2T81SY",
        "outputId": "9769d592-daf0-4e33-a572-2e2bfdbeb392",
        "colab": {
          "base_uri": "https://localhost:8080/",
          "height": 34
        }
      },
      "execution_count": 107,
      "outputs": [
        {
          "output_type": "execute_result",
          "data": {
            "text/plain": [
              "'tab'"
            ],
            "application/vnd.google.colaboratory.intrinsic+json": {
              "type": "string"
            }
          },
          "metadata": {},
          "execution_count": 107
        }
      ]
    },
    {
      "cell_type": "code",
      "source": [
        "list_aa[1][1:]   \n",
        "# ไม่ใส่เลขหลัง : หมายถึง นับถึงตัวสุดท้าย \n",
        "# ไม่ใส่เลขหน้า : หมายถึง นับตั้งแต่ตัวแรก   "
      ],
      "metadata": {
        "id": "Mjgo-fpJ8-TY",
        "outputId": "ad718039-66a6-46a3-bb50-f62145c2b33f",
        "colab": {
          "base_uri": "https://localhost:8080/",
          "height": 34
        }
      },
      "execution_count": 108,
      "outputs": [
        {
          "output_type": "execute_result",
          "data": {
            "text/plain": [
              "'ater'"
            ],
            "application/vnd.google.colaboratory.intrinsic+json": {
              "type": "string"
            }
          },
          "metadata": {},
          "execution_count": 108
        }
      ]
    },
    {
      "cell_type": "code",
      "source": [
        "list_aa[1][:3]"
      ],
      "metadata": {
        "id": "dd5j2Q5g96rt",
        "outputId": "7c5f55e2-12c6-4c2c-84ac-05252404af05",
        "colab": {
          "base_uri": "https://localhost:8080/",
          "height": 34
        }
      },
      "execution_count": 109,
      "outputs": [
        {
          "output_type": "execute_result",
          "data": {
            "text/plain": [
              "'wat'"
            ],
            "application/vnd.google.colaboratory.intrinsic+json": {
              "type": "string"
            }
          },
          "metadata": {},
          "execution_count": 109
        }
      ]
    },
    {
      "cell_type": "markdown",
      "source": [
        "## Advance list slicing"
      ],
      "metadata": {
        "id": "wEOU0Iro-ON5"
      }
    },
    {
      "cell_type": "code",
      "source": [
        ""
      ],
      "metadata": {
        "id": "DKtWxBGB-IvZ"
      },
      "execution_count": null,
      "outputs": []
    }
  ]
}