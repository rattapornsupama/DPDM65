{
  "nbformat": 4,
  "nbformat_minor": 0,
  "metadata": {
    "colab": {
      "name": "timesplit.ipynb",
      "provenance": [],
      "authorship_tag": "ABX9TyNw4OiqAvVjZhlQrtnrc1l2",
      "include_colab_link": true
    },
    "kernelspec": {
      "name": "python3",
      "display_name": "Python 3"
    },
    "language_info": {
      "name": "python"
    }
  },
  "cells": [
    {
      "cell_type": "markdown",
      "metadata": {
        "id": "view-in-github",
        "colab_type": "text"
      },
      "source": [
        "<a href=\"https://colab.research.google.com/github/rattapornsupama/DPDM65/blob/main/timesplit.ipynb\" target=\"_parent\"><img src=\"https://colab.research.google.com/assets/colab-badge.svg\" alt=\"Open In Colab\"/></a>"
      ]
    },
    {
      "cell_type": "code",
      "execution_count": null,
      "metadata": {
        "id": "R5DvELqyqu97"
      },
      "outputs": [],
      "source": [
        "example (Quiz1)\n",
        "เขียน function แสดงความต่างของเวลาโดย input อยู่ในรูปแบบ 'XX:YY:ZZ - AA:BB:CC'\n",
        "\n",
        "และวนลูปแสดงผลของ input ต่อไปนี้\n",
        "\n",
        "'09:11:50 - 12:30:15'\n",
        "'13:41:07 - 20:00:18'\n",
        "'00:00:00 - 23:59:59'\n",
        "'18:04:11 - 00:00:00'\n",
        "'21:30:00 - 03:05:15'\n",
        "ตัวอย่าง input '00:00:00-01:00:00'\n",
        "\n",
        "output ช่วงระยะเวลาระหว่าง 00:00:00 ถึง 01:00:00 มีเวลาทั้งหมด 3,600 วินาที\n",
        "\n"
      ]
    },
    {
      "cell_type": "code",
      "source": [
        "time='09:11:50 - 12:30:15'"
      ],
      "metadata": {
        "id": "4pV5nxu-q2nw"
      },
      "execution_count": 3,
      "outputs": []
    },
    {
      "cell_type": "code",
      "source": [
        "time.split('-')                     #เอา - ออก แล้วใส่ไว้ใน list"
      ],
      "metadata": {
        "colab": {
          "base_uri": "https://localhost:8080/"
        },
        "id": "bxXMGf2dq6DY",
        "outputId": "0e72de1c-f7b4-41b4-d84a-4925fe2a3782"
      },
      "execution_count": 4,
      "outputs": [
        {
          "output_type": "execute_result",
          "data": {
            "text/plain": [
              "['09:11:50 ', ' 12:30:15']"
            ]
          },
          "metadata": {},
          "execution_count": 4
        }
      ]
    },
    {
      "cell_type": "code",
      "source": [
        "T=time.split('-')                 #เอา - ออก แล้วใส่ไว้ใน list จะได้ T= ['09:11:50 ', ' 12:30:15']\n",
        "Tstart=T[0]                      #สมาชิกของ T ตัวที่ 1 \n",
        "Tend=T[1]                       #สมาชิกของ T ตัวที่ 2 \n",
        "\n",
        "Split1=Tstart.split(':')        #เอา : ของสมาชิกของ T ตัวที่ 1 ออก แล้วใส่ไว้ใน list จะได้ Tstart = ['09','11','50']\n",
        "Sstart=3600*int(Split1[0])+60*int(Split1[1])+int(Split1[2])      #[สมาชิกตัวที่ 1 (ของ T ตัวที่ 1) *3600] + [สมาชิกตัวที่ 2 (ของ T ตัวที่ 1) *60] +[สมาชิกตัวที่ 3 (ของ T ตัวที่ 1) ] \n",
        "\n",
        "Split2=Tend.split(':')         #เอา : ของสมาชิกของ T ตัวที่ 2 ออก แล้วใส่ไว้ใน list จะได้ Tend = ['12','30','15']\n",
        "Send=3600*int(Split2[0])+60*int(Split2[1])+int(Split2[2])       #[สมาชิกตัวที่ 1 (ของ T ตัวที่ 2) *3600] + [สมาชิกตัวที่ 2 (ของ T ตัวที่ 2) *60] +[สมาชิกตัวที่ 3 (ของ T ตัวที่ 2) ] \n",
        "\n",
        "if Send < Sstart:\n",
        "    print(f'ช่วงระยะเวลาระหว่าง {Tstart} ถึง {Tend} มีเวลาทั้งหมด {Send+(24*3600)-Sstart} วินาที')\n",
        "else:\n",
        "    print(f'ช่วงระยะเวลาระหว่าง {Tstart} ถึง {Tend} มีเวลาทั้งหมด {Send-Sstart} วินาที')"
      ],
      "metadata": {
        "colab": {
          "base_uri": "https://localhost:8080/"
        },
        "id": "ctaNMLz3rKnN",
        "outputId": "3b80446d-8b2f-4f9c-f794-fe4292a3d4d8"
      },
      "execution_count": 7,
      "outputs": [
        {
          "output_type": "stream",
          "name": "stdout",
          "text": [
            "ช่วงระยะเวลาระหว่าง 09:11:50  ถึง  12:30:15 มีเวลาทั้งหมด 11905 วินาที\n"
          ]
        }
      ]
    },
    {
      "cell_type": "code",
      "source": [
        "def cal_time(time):\n",
        "    T=time.split('-')\n",
        "    Tstart=T[0]\n",
        "    Tend=T[-1]\n",
        "\n",
        "    SplitS=Tstart.split(':')\n",
        "    Sstart=3600*int(SplitS[0])+60*int(SplitS[1])+int(SplitS[2])\n",
        "\n",
        "    SplitE=Tend.split(':')\n",
        "    Send=3600*int(SplitE[0])+60*int(SplitE[1])+int(SplitE[2])\n",
        "\n",
        "    if Send < Sstart:\n",
        "        return f'ช่วงระยะเวลาระหว่าง {Tstart} ถึง {Tend} มีเวลาทั้งหมด {Send+(24*3600)-Sstart} วินาที'\n",
        "    else:\n",
        "        return f'ช่วงระยะเวลาระหว่าง {Tstart} ถึง {Tend} มีเวลาทั้งหมด {Send-Sstart} วินาที'"
      ],
      "metadata": {
        "id": "8eb6zIUQuidv"
      },
      "execution_count": null,
      "outputs": []
    },
    {
      "cell_type": "code",
      "source": [
        "cal_time('09:11:50-12:30:15')"
      ],
      "metadata": {
        "colab": {
          "base_uri": "https://localhost:8080/",
          "height": 34
        },
        "id": "_M9tMcKrwEUK",
        "outputId": "264f1500-71bc-4e0d-c855-73a0c029c85e"
      },
      "execution_count": null,
      "outputs": [
        {
          "output_type": "execute_result",
          "data": {
            "text/plain": [
              "'ช่วงระยะเวลาระหว่าง 09:11:50 ถึง 12:30:15 มีเวลาทั้งหมด 11905 วินาที'"
            ],
            "application/vnd.google.colaboratory.intrinsic+json": {
              "type": "string"
            }
          },
          "metadata": {},
          "execution_count": 21
        }
      ]
    },
    {
      "cell_type": "code",
      "source": [
        "time2='09:11:50 - 12:30:15'\n",
        "T=time2.split('-')"
      ],
      "metadata": {
        "id": "kIeSKpl37mVf"
      },
      "execution_count": null,
      "outputs": []
    },
    {
      "cell_type": "code",
      "source": [
        "def cal_time2(Tstart,Tend):\n",
        "    T=time2.split('-')\n",
        "    Tstart=T[0]\n",
        "    Tend=T[-1]\n",
        "\n",
        "    SplitS=Tstart.split(':')\n",
        "    Sstart=3600*int(SplitS[0])+60*int(SplitS[1])+int(SplitS[2])\n",
        "\n",
        "    SplitE=Tend.split(':')\n",
        "    Send=3600*int(SplitE[0])+60*int(SplitE[1])+int(SplitE[2])\n",
        "\n",
        "    if Send < Sstart:\n",
        "        return f'ช่วงระยะเวลาระหว่าง {Tstart} ถึง {Tend} มีเวลาทั้งหมด {Send+(24*3600)-Sstart:,} วินาที'\n",
        "    else:\n",
        "        return f'ช่วงระยะเวลาระหว่าง {Tstart} ถึง {Tend} มีเวลาทั้งหมด {Send-Sstart:,} วินาที'"
      ],
      "metadata": {
        "id": "j2sKbQB0wTu7"
      },
      "execution_count": null,
      "outputs": []
    },
    {
      "cell_type": "code",
      "source": [
        "cal_time2(Tstart='09:11:50',Tend='12:30:15')"
      ],
      "metadata": {
        "id": "rEIq2MAn6mZa",
        "outputId": "bc9de0c2-0652-470f-893a-aa9ad3b034a4",
        "colab": {
          "base_uri": "https://localhost:8080/",
          "height": 34
        }
      },
      "execution_count": null,
      "outputs": [
        {
          "output_type": "execute_result",
          "data": {
            "text/plain": [
              "'ช่วงระยะเวลาระหว่าง 09:11:50  ถึง  12:30:15 มีเวลาทั้งหมด 11,905 วินาที'"
            ],
            "application/vnd.google.colaboratory.intrinsic+json": {
              "type": "string"
            }
          },
          "metadata": {},
          "execution_count": 17
        }
      ]
    },
    {
      "cell_type": "code",
      "source": [
        ""
      ],
      "metadata": {
        "id": "x5vadI7N61Q7"
      },
      "execution_count": null,
      "outputs": []
    }
  ]
}