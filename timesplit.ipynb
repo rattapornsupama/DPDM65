{
  "nbformat": 4,
  "nbformat_minor": 0,
  "metadata": {
    "colab": {
      "name": "timesplit.ipynb",
      "provenance": [],
      "authorship_tag": "ABX9TyPe+erC9TKyOheIPa18dveB",
      "include_colab_link": true
    },
    "kernelspec": {
      "name": "python3",
      "display_name": "Python 3"
    },
    "language_info": {
      "name": "python"
    }
  },
  "cells": [
    {
      "cell_type": "markdown",
      "metadata": {
        "id": "view-in-github",
        "colab_type": "text"
      },
      "source": [
        "<a href=\"https://colab.research.google.com/github/rattapornsupama/DPDM65/blob/main/timesplit.ipynb\" target=\"_parent\"><img src=\"https://colab.research.google.com/assets/colab-badge.svg\" alt=\"Open In Colab\"/></a>"
      ]
    },
    {
      "cell_type": "code",
      "execution_count": null,
      "metadata": {
        "id": "R5DvELqyqu97"
      },
      "outputs": [],
      "source": [
        "example (Quiz1)\n",
        "เขียน function แสดงความต่างของเวลาโดย input อยู่ในรูปแบบ 'XX:YY:ZZ - AA:BB:CC'\n",
        "\n",
        "และวนลูปแสดงผลของ input ต่อไปนี้\n",
        "\n",
        "'09:11:50 - 12:30:15'\n",
        "'13:41:07 - 20:00:18'\n",
        "'00:00:00 - 23:59:59'\n",
        "'18:04:11 - 00:00:00'\n",
        "'21:30:00 - 03:05:15'\n",
        "ตัวอย่าง input '00:00:00-01:00:00'\n",
        "\n",
        "output ช่วงระยะเวลาระหว่าง 00:00:00 ถึง 01:00:00 มีเวลาทั้งหมด 3,600 วินาที\n",
        "\n"
      ]
    },
    {
      "cell_type": "code",
      "source": [
        "time='09:11:50 - 12:30:15'"
      ],
      "metadata": {
        "id": "4pV5nxu-q2nw"
      },
      "execution_count": null,
      "outputs": []
    },
    {
      "cell_type": "code",
      "source": [
        "time.split('-')"
      ],
      "metadata": {
        "colab": {
          "base_uri": "https://localhost:8080/"
        },
        "id": "bxXMGf2dq6DY",
        "outputId": "2746c1ac-a108-4e00-8b5a-560f934187a0"
      },
      "execution_count": null,
      "outputs": [
        {
          "output_type": "execute_result",
          "data": {
            "text/plain": [
              "['09:11:50 ', ' 12:30:15']"
            ]
          },
          "metadata": {},
          "execution_count": 14
        }
      ]
    },
    {
      "cell_type": "code",
      "source": [
        "T=time.split('-')\n",
        "Tstart=T[0]\n",
        "Tend=T[-1]\n",
        "\n",
        "SplitS=Tstart.split(':')\n",
        "Sstart=3600*int(SplitS[0])+60*int(SplitS[1])+int(SplitS[2])\n",
        "\n",
        "SplitE=Tend.split(':')\n",
        "Send=3600*int(SplitE[0])+60*int(SplitE[1])+int(SplitE[2])\n",
        "\n",
        "if Send < Sstart:\n",
        "    print(f'ช่วงระยะเวลาระหว่าง {Tstart} ถึง {Tend} มีเวลาทั้งหมด {Send+(24*3600)-Sstart} วินาที')\n",
        "else:\n",
        "    print(f'ช่วงระยะเวลาระหว่าง {Tstart} ถึง {Tend} มีเวลาทั้งหมด {Send-Sstart} วินาที')"
      ],
      "metadata": {
        "colab": {
          "base_uri": "https://localhost:8080/"
        },
        "id": "ctaNMLz3rKnN",
        "outputId": "4bbca3ad-c4be-4628-e026-c081f8f5d02b"
      },
      "execution_count": null,
      "outputs": [
        {
          "output_type": "stream",
          "name": "stdout",
          "text": [
            "ช่วงระยะเวลาระหว่าง 09:11:50  ถึง  12:30:15 มีเวลาทั้งหมด 11905 วินาที\n"
          ]
        }
      ]
    },
    {
      "cell_type": "code",
      "source": [
        "def cal_time(time):\n",
        "    T=time.split('-')\n",
        "    Tstart=T[0]\n",
        "    Tend=T[-1]\n",
        "\n",
        "    SplitS=Tstart.split(':')\n",
        "    Sstart=3600*int(SplitS[0])+60*int(SplitS[1])+int(SplitS[2])\n",
        "\n",
        "    SplitE=Tend.split(':')\n",
        "    Send=3600*int(SplitE[0])+60*int(SplitE[1])+int(SplitE[2])\n",
        "\n",
        "    if Send < Sstart:\n",
        "        return f'ช่วงระยะเวลาระหว่าง {Tstart} ถึง {Tend} มีเวลาทั้งหมด {Send+(24*3600)-Sstart} วินาที'\n",
        "    else:\n",
        "        return f'ช่วงระยะเวลาระหว่าง {Tstart} ถึง {Tend} มีเวลาทั้งหมด {Send-Sstart} วินาที'"
      ],
      "metadata": {
        "id": "8eb6zIUQuidv"
      },
      "execution_count": null,
      "outputs": []
    },
    {
      "cell_type": "code",
      "source": [
        "cal_time('09:11:50-12:30:15')"
      ],
      "metadata": {
        "colab": {
          "base_uri": "https://localhost:8080/",
          "height": 34
        },
        "id": "_M9tMcKrwEUK",
        "outputId": "264f1500-71bc-4e0d-c855-73a0c029c85e"
      },
      "execution_count": null,
      "outputs": [
        {
          "output_type": "execute_result",
          "data": {
            "text/plain": [
              "'ช่วงระยะเวลาระหว่าง 09:11:50 ถึง 12:30:15 มีเวลาทั้งหมด 11905 วินาที'"
            ],
            "application/vnd.google.colaboratory.intrinsic+json": {
              "type": "string"
            }
          },
          "metadata": {},
          "execution_count": 21
        }
      ]
    },
    {
      "cell_type": "code",
      "source": [
        "time2='09:11:50 - 12:30:15'\n",
        "T=time2.split('-')"
      ],
      "metadata": {
        "id": "kIeSKpl37mVf"
      },
      "execution_count": 15,
      "outputs": []
    },
    {
      "cell_type": "code",
      "source": [
        "def cal_time2(Tstart,Tend):\n",
        "    T=time2.split('-')\n",
        "    Tstart=T[0]\n",
        "    Tend=T[-1]\n",
        "\n",
        "    SplitS=Tstart.split(':')\n",
        "    Sstart=3600*int(SplitS[0])+60*int(SplitS[1])+int(SplitS[2])\n",
        "\n",
        "    SplitE=Tend.split(':')\n",
        "    Send=3600*int(SplitE[0])+60*int(SplitE[1])+int(SplitE[2])\n",
        "\n",
        "    if Send < Sstart:\n",
        "        return f'ช่วงระยะเวลาระหว่าง {Tstart} ถึง {Tend} มีเวลาทั้งหมด {Send+(24*3600)-Sstart:,} วินาที'\n",
        "    else:\n",
        "        return f'ช่วงระยะเวลาระหว่าง {Tstart} ถึง {Tend} มีเวลาทั้งหมด {Send-Sstart:,} วินาที'"
      ],
      "metadata": {
        "id": "j2sKbQB0wTu7"
      },
      "execution_count": 16,
      "outputs": []
    },
    {
      "cell_type": "code",
      "source": [
        "cal_time2(Tstart='09:11:50',Tend='12:30:15')"
      ],
      "metadata": {
        "id": "rEIq2MAn6mZa",
        "outputId": "bc9de0c2-0652-470f-893a-aa9ad3b034a4",
        "colab": {
          "base_uri": "https://localhost:8080/",
          "height": 34
        }
      },
      "execution_count": 17,
      "outputs": [
        {
          "output_type": "execute_result",
          "data": {
            "text/plain": [
              "'ช่วงระยะเวลาระหว่าง 09:11:50  ถึง  12:30:15 มีเวลาทั้งหมด 11,905 วินาที'"
            ],
            "application/vnd.google.colaboratory.intrinsic+json": {
              "type": "string"
            }
          },
          "metadata": {},
          "execution_count": 17
        }
      ]
    },
    {
      "cell_type": "code",
      "source": [
        ""
      ],
      "metadata": {
        "id": "x5vadI7N61Q7"
      },
      "execution_count": null,
      "outputs": []
    }
  ]
}